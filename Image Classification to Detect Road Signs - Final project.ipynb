{
 "cells": [
  {
   "cell_type": "markdown",
   "metadata": {},
   "source": [
    "# Level 1"
   ]
  },
  {
   "cell_type": "code",
   "execution_count": 1,
   "metadata": {},
   "outputs": [
    {
     "name": "stderr",
     "output_type": "stream",
     "text": [
      "Using TensorFlow backend.\n"
     ]
    }
   ],
   "source": [
    "import matplotlib as mlp\n",
    "import matplotlib.pyplot as plt\n",
    "import pandas as pd\n",
    "import numpy as np\n",
    "from sklearn.model_selection import train_test_split\n",
    "from keras.models import Sequential\n",
    "from keras.layers import Dense, Dropout, Flatten, Activation\n",
    "from keras.layers.convolutional import Conv2D, MaxPooling2D\n",
    "from keras.optimizers import Adam, rmsprop\n",
    "from keras.utils.np_utils import to_categorical\n",
    "import cv2\n",
    "import sys\n",
    "import os"
   ]
  },
  {
   "cell_type": "code",
   "execution_count": 2,
   "metadata": {},
   "outputs": [],
   "source": [
    "train_directory = \"Level 1/train\"\n",
    "test_directory = \"Level 1/test\"\n",
    "categories = [\"withoutsign\",\"withsign\"]"
   ]
  },
  {
   "cell_type": "code",
   "execution_count": 3,
   "metadata": {},
   "outputs": [],
   "source": [
    "from keras.preprocessing.image import ImageDataGenerator, array_to_img, img_to_array, load_img\n",
    "trainval_data = []\n",
    "IMG_SIZE = 64\n",
    "\n",
    "def create_trainval_data():\n",
    "    for category in categories:\n",
    "        path = os.path.join(train_directory, category)\n",
    "        class_num = categories.index(category)\n",
    "        for img in os.listdir(path):\n",
    "            img_array = cv2.imread(os.path.join(path,img), cv2.IMREAD_UNCHANGED)\n",
    "            img_array = cv2.cvtColor(img_array, cv2.COLOR_BGR2RGB)\n",
    "            new_img_array = cv2.resize(img_array, (IMG_SIZE, IMG_SIZE))\n",
    "            trainval_data.append([new_img_array, class_num])        \n",
    "\n",
    "create_trainval_data()"
   ]
  },
  {
   "cell_type": "code",
   "execution_count": 4,
   "metadata": {},
   "outputs": [],
   "source": [
    "test_data = []\n",
    "\n",
    "def create_test_data():\n",
    "    for category in categories:\n",
    "        path = os.path.join(test_directory, category)\n",
    "        class_num = categories.index(category)\n",
    "        for img in os.listdir(path):\n",
    "            img_array = cv2.imread(os.path.join(path,img), cv2.IMREAD_UNCHANGED)\n",
    "            img_array = cv2.cvtColor(img_array, cv2.COLOR_BGR2RGB)\n",
    "            new_img_array = cv2.resize(img_array, (IMG_SIZE, IMG_SIZE))\n",
    "            test_data.append([new_img_array, class_num])        \n",
    "create_test_data()"
   ]
  },
  {
   "cell_type": "code",
   "execution_count": 5,
   "metadata": {},
   "outputs": [],
   "source": [
    "import random\n",
    "random.seed(42)\n",
    "random.shuffle(trainval_data)\n",
    "X = []\n",
    "y = []\n",
    "\n",
    "X_test = []\n",
    "y_test = []"
   ]
  },
  {
   "cell_type": "code",
   "execution_count": 6,
   "metadata": {},
   "outputs": [],
   "source": [
    "for features, labels in trainval_data:\n",
    "    X.append(features)\n",
    "    y.append(labels)\n",
    "for features, labels in test_data:\n",
    "    X_test.append(features)\n",
    "    y_test.append(labels)"
   ]
  },
  {
   "cell_type": "code",
   "execution_count": 7,
   "metadata": {},
   "outputs": [],
   "source": [
    "X = np.array(X)\n",
    "y = np.array(y)\n",
    "X_test = np.array(X_test)\n",
    "y_test = np.array(y_test)"
   ]
  },
  {
   "cell_type": "code",
   "execution_count": 8,
   "metadata": {},
   "outputs": [
    {
     "name": "stdout",
     "output_type": "stream",
     "text": [
      "(197, 64, 64, 3)\n",
      "(197,)\n",
      "(41, 64, 64, 3)\n",
      "(41,)\n"
     ]
    }
   ],
   "source": [
    "print(X.shape)\n",
    "print(y.shape)\n",
    "print(X_test.shape)\n",
    "print(y_test.shape)"
   ]
  },
  {
   "cell_type": "code",
   "execution_count": 9,
   "metadata": {},
   "outputs": [],
   "source": [
    "X_train, X_valid, y_train, y_valid = train_test_split(X, y, test_size = 0.2)"
   ]
  },
  {
   "cell_type": "code",
   "execution_count": 10,
   "metadata": {},
   "outputs": [],
   "source": [
    "train_datagen = ImageDataGenerator(rotation_range = 40,\n",
    "                            width_shift_range = 0.2,\n",
    "                            height_shift_range = 0.2,\n",
    "                            rescale = 1. / 255,\n",
    "                            shear_range = 0.2,\n",
    "                            zoom_range = 0.2)\n",
    "\n",
    "validation_datagen = ImageDataGenerator(rescale = 1. / 255)\n",
    "\n",
    "test_datagen = ImageDataGenerator(rescale = 1. / 255)"
   ]
  },
  {
   "cell_type": "code",
   "execution_count": 11,
   "metadata": {},
   "outputs": [],
   "source": [
    "train_datagen.fit(X_train)\n",
    "validation_datagen.fit(X_valid)\n",
    "test_datagen.fit(X_test)"
   ]
  },
  {
   "cell_type": "code",
   "execution_count": 12,
   "metadata": {},
   "outputs": [],
   "source": [
    "y_train_categorical = to_categorical(y_train, 2)\n",
    "y_valid_categorical = to_categorical(y_valid, 2)\n",
    "y_test_categorical = to_categorical(y_test, 2)"
   ]
  },
  {
   "cell_type": "code",
   "execution_count": 13,
   "metadata": {},
   "outputs": [],
   "source": [
    "channels = 3\n",
    "train_img_size = len(X_train)\n",
    "batch_size = 32\n",
    "validation_img_size = len(X_valid)"
   ]
  },
  {
   "cell_type": "code",
   "execution_count": 15,
   "metadata": {},
   "outputs": [
    {
     "name": "stdout",
     "output_type": "stream",
     "text": [
      "Model: \"sequential_25\"\n",
      "_________________________________________________________________\n",
      "Layer (type)                 Output Shape              Param #   \n",
      "=================================================================\n",
      "conv2d_49 (Conv2D)           (None, 62, 62, 32)        896       \n",
      "_________________________________________________________________\n",
      "max_pooling2d_49 (MaxPooling (None, 31, 31, 32)        0         \n",
      "_________________________________________________________________\n",
      "conv2d_50 (Conv2D)           (None, 29, 29, 64)        18496     \n",
      "_________________________________________________________________\n",
      "max_pooling2d_50 (MaxPooling (None, 14, 14, 64)        0         \n",
      "_________________________________________________________________\n",
      "flatten_25 (Flatten)         (None, 12544)             0         \n",
      "_________________________________________________________________\n",
      "dense_49 (Dense)             (None, 64)                802880    \n",
      "_________________________________________________________________\n",
      "activation_49 (Activation)   (None, 64)                0         \n",
      "_________________________________________________________________\n",
      "dropout_25 (Dropout)         (None, 64)                0         \n",
      "_________________________________________________________________\n",
      "dense_50 (Dense)             (None, 2)                 130       \n",
      "_________________________________________________________________\n",
      "activation_50 (Activation)   (None, 2)                 0         \n",
      "=================================================================\n",
      "Total params: 822,402\n",
      "Trainable params: 822,402\n",
      "Non-trainable params: 0\n",
      "_________________________________________________________________\n"
     ]
    }
   ],
   "source": [
    "from keras.models import load_model\n",
    "\n",
    "model = load_model('decentmodel.h5')\n",
    "model.summary()\n",
    "\n",
    "# model = Sequential()\n",
    "\n",
    "# model.add(Conv2D(32, (3,3), input_shape = (IMG_SIZE, IMG_SIZE, channels), activation = 'relu', data_format = 'channels_last'))\n",
    "# model.add(MaxPooling2D(pool_size=(2,2), strides=2))\n",
    "\n",
    "# model.add(Conv2D(64, (3,3), input_shape = (IMG_SIZE, IMG_SIZE, channels), activation = 'relu'))\n",
    "# model.add(MaxPooling2D(pool_size=(2,2), strides=2))\n",
    "\n",
    "# model.add(Flatten())\n",
    "# model.add(Dense(64))\n",
    "# model.add(Activation('relu'))\n",
    "# model.add(Dropout(0.375))\n",
    "# model.add(Dense(2))\n",
    "# model.add(Activation('sigmoid'))\n",
    "          \n",
    "# model.compile(loss = 'binary_crossentropy', optimizer = 'Adam', metrics = ['accuracy'])\n",
    "# model.summary()"
   ]
  },
  {
   "cell_type": "code",
   "execution_count": 17,
   "metadata": {
    "scrolled": true
   },
   "outputs": [
    {
     "name": "stdout",
     "output_type": "stream",
     "text": [
      "Epoch 1/50\n",
      "4/4 [==============================] - 1s 141ms/step - loss: 0.0478 - accuracy: 0.9880 - val_loss: 0.0046 - val_accuracy: 1.0000\n",
      "Epoch 2/50\n",
      "4/4 [==============================] - 0s 108ms/step - loss: 0.0317 - accuracy: 0.9961 - val_loss: 9.3936e-04 - val_accuracy: 1.0000\n",
      "Epoch 3/50\n",
      "4/4 [==============================] - 0s 113ms/step - loss: 0.0472 - accuracy: 0.9836 - val_loss: 0.0022 - val_accuracy: 1.0000\n",
      "Epoch 4/50\n",
      "4/4 [==============================] - 0s 125ms/step - loss: 0.0166 - accuracy: 1.0000 - val_loss: 2.3988e-04 - val_accuracy: 1.0000\n",
      "Epoch 5/50\n",
      "4/4 [==============================] - 0s 108ms/step - loss: 0.0328 - accuracy: 0.9800 - val_loss: 0.0010 - val_accuracy: 1.0000\n",
      "Epoch 6/50\n",
      "4/4 [==============================] - 0s 104ms/step - loss: 0.0375 - accuracy: 0.9880 - val_loss: 0.0032 - val_accuracy: 1.0000\n",
      "Epoch 7/50\n",
      "4/4 [==============================] - 1s 136ms/step - loss: 0.0482 - accuracy: 0.9844 - val_loss: 0.0028 - val_accuracy: 1.0000\n",
      "Epoch 8/50\n",
      "4/4 [==============================] - 0s 108ms/step - loss: 0.0951 - accuracy: 0.9754 - val_loss: 4.1377e-04 - val_accuracy: 1.0000\n",
      "Epoch 9/50\n",
      "4/4 [==============================] - 0s 109ms/step - loss: 0.0338 - accuracy: 0.9920 - val_loss: 0.0111 - val_accuracy: 1.0000\n",
      "Epoch 10/50\n",
      "4/4 [==============================] - 0s 108ms/step - loss: 0.0990 - accuracy: 0.9609 - val_loss: 5.4322e-04 - val_accuracy: 1.0000\n",
      "Epoch 11/50\n",
      "4/4 [==============================] - 0s 113ms/step - loss: 0.0348 - accuracy: 0.9880 - val_loss: 0.0112 - val_accuracy: 1.0000\n",
      "Epoch 12/50\n",
      "4/4 [==============================] - 1s 125ms/step - loss: 0.0624 - accuracy: 0.9609 - val_loss: 0.0291 - val_accuracy: 1.0000\n",
      "Epoch 13/50\n",
      "4/4 [==============================] - 0s 120ms/step - loss: 0.0565 - accuracy: 0.9800 - val_loss: 0.0109 - val_accuracy: 1.0000\n",
      "Epoch 14/50\n",
      "4/4 [==============================] - 0s 102ms/step - loss: 0.0510 - accuracy: 0.9795 - val_loss: 0.0110 - val_accuracy: 1.0000\n",
      "Epoch 15/50\n",
      "4/4 [==============================] - 0s 105ms/step - loss: 0.0549 - accuracy: 0.9805 - val_loss: 0.0026 - val_accuracy: 1.0000\n",
      "Epoch 16/50\n",
      "4/4 [==============================] - 0s 104ms/step - loss: 0.0209 - accuracy: 1.0000 - val_loss: 0.0168 - val_accuracy: 1.0000\n",
      "Epoch 17/50\n",
      "4/4 [==============================] - 0s 110ms/step - loss: 0.0959 - accuracy: 0.9680 - val_loss: 0.0024 - val_accuracy: 1.0000\n",
      "Epoch 18/50\n",
      "4/4 [==============================] - 0s 103ms/step - loss: 0.0356 - accuracy: 0.9877 - val_loss: 0.0090 - val_accuracy: 1.0000\n",
      "Epoch 19/50\n",
      "4/4 [==============================] - 0s 107ms/step - loss: 0.0340 - accuracy: 0.9920 - val_loss: 0.0013 - val_accuracy: 1.0000\n",
      "Epoch 20/50\n",
      "4/4 [==============================] - 0s 103ms/step - loss: 0.0927 - accuracy: 0.9688 - val_loss: 0.0049 - val_accuracy: 1.0000\n",
      "Epoch 21/50\n",
      "4/4 [==============================] - 0s 120ms/step - loss: 0.0636 - accuracy: 0.9760 - val_loss: 0.0035 - val_accuracy: 1.0000\n",
      "Epoch 22/50\n",
      "4/4 [==============================] - 0s 102ms/step - loss: 0.1089 - accuracy: 0.9600 - val_loss: 0.0209 - val_accuracy: 1.0000\n",
      "Epoch 23/50\n",
      "4/4 [==============================] - 0s 118ms/step - loss: 0.0393 - accuracy: 0.9961 - val_loss: 0.0131 - val_accuracy: 1.0000\n",
      "Epoch 24/50\n",
      "4/4 [==============================] - 0s 116ms/step - loss: 0.0601 - accuracy: 0.9840 - val_loss: 0.0019 - val_accuracy: 1.0000\n",
      "Epoch 25/50\n",
      "4/4 [==============================] - 0s 123ms/step - loss: 0.0621 - accuracy: 0.9720 - val_loss: 0.0039 - val_accuracy: 1.0000\n",
      "Epoch 26/50\n",
      "4/4 [==============================] - 0s 118ms/step - loss: 0.0550 - accuracy: 0.9922 - val_loss: 0.0021 - val_accuracy: 1.0000\n",
      "Epoch 27/50\n",
      "4/4 [==============================] - 0s 104ms/step - loss: 0.0416 - accuracy: 0.9795 - val_loss: 0.0049 - val_accuracy: 1.0000\n",
      "Epoch 28/50\n",
      "4/4 [==============================] - 0s 111ms/step - loss: 0.0189 - accuracy: 0.9920 - val_loss: 0.0026 - val_accuracy: 1.0000\n",
      "Epoch 29/50\n",
      "4/4 [==============================] - 0s 112ms/step - loss: 0.0572 - accuracy: 0.9766 - val_loss: 0.0026 - val_accuracy: 1.0000\n",
      "Epoch 30/50\n",
      "4/4 [==============================] - 0s 100ms/step - loss: 0.0249 - accuracy: 0.9920 - val_loss: 0.0025 - val_accuracy: 1.0000\n",
      "Epoch 31/50\n",
      "4/4 [==============================] - 0s 117ms/step - loss: 0.0614 - accuracy: 0.9766 - val_loss: 0.0016 - val_accuracy: 1.0000\n",
      "Epoch 32/50\n",
      "4/4 [==============================] - 0s 105ms/step - loss: 0.0917 - accuracy: 0.9631 - val_loss: 0.2058 - val_accuracy: 0.8750\n",
      "Epoch 33/50\n",
      "4/4 [==============================] - 0s 107ms/step - loss: 0.1675 - accuracy: 0.9375 - val_loss: 0.0072 - val_accuracy: 1.0000\n",
      "Epoch 34/50\n",
      "4/4 [==============================] - 0s 102ms/step - loss: 0.1441 - accuracy: 0.9520 - val_loss: 0.0034 - val_accuracy: 1.0000\n",
      "Epoch 35/50\n",
      "4/4 [==============================] - 0s 106ms/step - loss: 0.0453 - accuracy: 0.9920 - val_loss: 0.0203 - val_accuracy: 1.0000\n",
      "Epoch 36/50\n",
      "4/4 [==============================] - 1s 125ms/step - loss: 0.0839 - accuracy: 0.9760 - val_loss: 0.0051 - val_accuracy: 1.0000\n",
      "Epoch 37/50\n",
      "4/4 [==============================] - 0s 111ms/step - loss: 0.0465 - accuracy: 0.9800 - val_loss: 0.0088 - val_accuracy: 1.0000\n",
      "Epoch 38/50\n",
      "4/4 [==============================] - 0s 113ms/step - loss: 0.1001 - accuracy: 0.9688 - val_loss: 5.3855e-04 - val_accuracy: 1.0000\n",
      "Epoch 39/50\n",
      "4/4 [==============================] - 0s 107ms/step - loss: 0.1235 - accuracy: 0.9549 - val_loss: 0.0047 - val_accuracy: 1.0000\n",
      "Epoch 40/50\n",
      "4/4 [==============================] - 0s 122ms/step - loss: 0.0478 - accuracy: 0.9844 - val_loss: 2.7897e-04 - val_accuracy: 1.0000\n",
      "Epoch 41/50\n",
      "4/4 [==============================] - 1s 139ms/step - loss: 0.0541 - accuracy: 0.9800 - val_loss: 0.0016 - val_accuracy: 1.0000\n",
      "Epoch 42/50\n",
      "4/4 [==============================] - 1s 131ms/step - loss: 0.0414 - accuracy: 0.9883 - val_loss: 0.0049 - val_accuracy: 1.0000\n",
      "Epoch 43/50\n",
      "4/4 [==============================] - 1s 131ms/step - loss: 0.1009 - accuracy: 0.9600 - val_loss: 0.0038 - val_accuracy: 1.0000\n",
      "Epoch 44/50\n",
      "4/4 [==============================] - 0s 122ms/step - loss: 0.0302 - accuracy: 0.9920 - val_loss: 0.0021 - val_accuracy: 1.0000\n",
      "Epoch 45/50\n",
      "4/4 [==============================] - 0s 112ms/step - loss: 0.0192 - accuracy: 0.9960 - val_loss: 0.0045 - val_accuracy: 1.0000\n",
      "Epoch 46/50\n",
      "4/4 [==============================] - 0s 109ms/step - loss: 0.0361 - accuracy: 0.9880 - val_loss: 1.3848e-04 - val_accuracy: 1.0000\n",
      "Epoch 47/50\n",
      "4/4 [==============================] - 0s 119ms/step - loss: 0.0210 - accuracy: 0.9920 - val_loss: 0.0018 - val_accuracy: 1.0000\n",
      "Epoch 48/50\n",
      "4/4 [==============================] - 0s 113ms/step - loss: 0.0184 - accuracy: 1.0000 - val_loss: 3.0782e-04 - val_accuracy: 1.0000\n",
      "Epoch 49/50\n",
      "4/4 [==============================] - 1s 160ms/step - loss: 0.0166 - accuracy: 0.9960 - val_loss: 4.9165e-04 - val_accuracy: 1.0000\n",
      "Epoch 50/50\n",
      "4/4 [==============================] - 0s 105ms/step - loss: 0.0323 - accuracy: 0.9922 - val_loss: 0.0032 - val_accuracy: 1.0000\n"
     ]
    }
   ],
   "source": [
    "history = model.fit_generator(train_datagen.flow(X_train, y_train_categorical),\n",
    "                               steps_per_epoch=train_img_size//batch_size,\n",
    "                               epochs=50,\n",
    "                               validation_data=validation_datagen.flow(X_valid, y_valid_categorical),\n",
    "                               validation_steps=validation_img_size//batch_size)"
   ]
  },
  {
   "cell_type": "code",
   "execution_count": 18,
   "metadata": {},
   "outputs": [
    {
     "name": "stdout",
     "output_type": "stream",
     "text": [
      "41/41 [==============================] - 0s 1ms/step\n"
     ]
    }
   ],
   "source": [
    "score = model.evaluate(X_test, y_test_categorical)"
   ]
  },
  {
   "cell_type": "code",
   "execution_count": 19,
   "metadata": {},
   "outputs": [
    {
     "data": {
      "text/plain": [
       "[36.94354992378049, 0.9512194991111755]"
      ]
     },
     "execution_count": 19,
     "metadata": {},
     "output_type": "execute_result"
    }
   ],
   "source": [
    "score"
   ]
  },
  {
   "cell_type": "code",
   "execution_count": 20,
   "metadata": {},
   "outputs": [
    {
     "name": "stdout",
     "output_type": "stream",
     "text": [
      "Images without sign are labeled as class  0\n",
      "Images with sign are labeled as class  1\n"
     ]
    }
   ],
   "source": [
    "print('Images without sign are labeled as class ', categories.index('withoutsign'))\n",
    "print('Images with sign are labeled as class ', categories.index('withsign'))"
   ]
  },
  {
   "cell_type": "code",
   "execution_count": 21,
   "metadata": {},
   "outputs": [
    {
     "name": "stdout",
     "output_type": "stream",
     "text": [
      "The random image label is  19\n"
     ]
    },
    {
     "data": {
      "image/png": "[encoded data removed]",
      "text/plain": [
       "<Figure size 432x288 with 1 Axes>"
      ]
     },
     "metadata": {
      "needs_background": "light"
     },
     "output_type": "display_data"
    },
    {
     "name": "stdout",
     "output_type": "stream",
     "text": [
      "Predicted Sign[0]\n"
     ]
    }
   ],
   "source": [
    "random_img = random.randint(0,40)\n",
    "print(\"The random image label is \", random_img)\n",
    "plt.imshow(X_test[random_img])\n",
    "plt.show()\n",
    "print('Predicted Sign' + str\n",
    "         (model.predict_classes(X_test[random_img].reshape(1,64,64,3))))"
   ]
  },
  {
   "cell_type": "code",
   "execution_count": 22,
   "metadata": {},
   "outputs": [
    {
     "name": "stdout",
     "output_type": "stream",
     "text": [
      "The random image label is  32\n"
     ]
    },
    {
     "data": {
      "image/png": "[encoded data removed]",
      "text/plain": [
       "<Figure size 432x288 with 1 Axes>"
      ]
     },
     "metadata": {
      "needs_background": "light"
     },
     "output_type": "display_data"
    },
    {
     "name": "stdout",
     "output_type": "stream",
     "text": [
      "Predicted Sign[1]\n"
     ]
    }
   ],
   "source": [
    "random_img = random.randint(0,40)\n",
    "print(\"The random image label is \", random_img)\n",
    "plt.imshow(X_test[random_img])\n",
    "plt.show()\n",
    "print('Predicted Sign' + str\n",
    "         (model.predict_classes(X_test[random_img].reshape(1,64,64,3))))"
   ]
  },
  {
   "cell_type": "code",
   "execution_count": 23,
   "metadata": {},
   "outputs": [],
   "source": [
    "results = model.predict(X_test)"
   ]
  },
  {
   "cell_type": "code",
   "execution_count": 25,
   "metadata": {},
   "outputs": [],
   "source": [
    "results_class = np.argmax(results, axis=1, out=None)"
   ]
  },
  {
   "cell_type": "code",
   "execution_count": 26,
   "metadata": {},
   "outputs": [
    {
     "name": "stdout",
     "output_type": "stream",
     "text": [
      "[[20  0]\n",
      " [ 2 19]]\n"
     ]
    }
   ],
   "source": [
    "from sklearn.metrics import confusion_matrix\n",
    "\n",
    "print(confusion_matrix(results_class, y_test))"
   ]
  },
  {
   "cell_type": "code",
   "execution_count": 27,
   "metadata": {},
   "outputs": [
    {
     "name": "stdout",
     "output_type": "stream",
     "text": [
      "              precision    recall  f1-score   support\n",
      "\n",
      "           0       0.91      1.00      0.95        20\n",
      "           1       1.00      0.90      0.95        21\n",
      "\n",
      "    accuracy                           0.95        41\n",
      "   macro avg       0.95      0.95      0.95        41\n",
      "weighted avg       0.96      0.95      0.95        41\n",
      "\n"
     ]
    }
   ],
   "source": [
    "from sklearn.metrics import classification_report\n",
    "\n",
    "print(classification_report(results_class, y_test))"
   ]
  },
  {
   "cell_type": "code",
   "execution_count": 28,
   "metadata": {},
   "outputs": [
    {
     "name": "stdout",
     "output_type": "stream",
     "text": [
      "Predicted Sign[0]\n",
      "Predicted Sign[0]\n",
      "Predicted Sign[0]\n",
      "Predicted Sign[0]\n",
      "Predicted Sign[0]\n",
      "Predicted Sign[0]\n",
      "Predicted Sign[0]\n",
      "Predicted Sign[0]\n",
      "Predicted Sign[0]\n",
      "Predicted Sign[1]\n",
      "Predicted Sign[0]\n",
      "Predicted Sign[0]\n",
      "Predicted Sign[0]\n",
      "Predicted Sign[1]\n",
      "Predicted Sign[0]\n",
      "Predicted Sign[0]\n",
      "Predicted Sign[0]\n",
      "Predicted Sign[0]\n",
      "Predicted Sign[0]\n",
      "Predicted Sign[0]\n",
      "Predicted Sign[0]\n",
      "Predicted Sign[0]\n",
      "Predicted Sign[1]\n",
      "Predicted Sign[1]\n",
      "Predicted Sign[1]\n",
      "Predicted Sign[1]\n",
      "Predicted Sign[1]\n",
      "Predicted Sign[1]\n",
      "Predicted Sign[1]\n",
      "Predicted Sign[1]\n",
      "Predicted Sign[1]\n",
      "Predicted Sign[1]\n",
      "Predicted Sign[1]\n",
      "Predicted Sign[1]\n",
      "Predicted Sign[1]\n",
      "Predicted Sign[1]\n",
      "Predicted Sign[1]\n",
      "Predicted Sign[1]\n",
      "Predicted Sign[1]\n",
      "Predicted Sign[1]\n",
      "Predicted Sign[1]\n"
     ]
    }
   ],
   "source": [
    "for i in range(len(X_test)):\n",
    "    print('Predicted Sign' + str\n",
    "         (model.predict_classes(X_test[i].reshape(1,64,64,3))))"
   ]
  },
  {
   "cell_type": "markdown",
   "metadata": {},
   "source": [
    "# Level 2 "
   ]
  },
  {
   "cell_type": "code",
   "execution_count": 29,
   "metadata": {},
   "outputs": [],
   "source": [
    "train_dir = \"Level 2/train\"\n",
    "test_dir = \"Level 2/test\"\n",
    "categories = [\"guide\",\"regulatory\",\"warning\"]"
   ]
  },
  {
   "cell_type": "code",
   "execution_count": 33,
   "metadata": {},
   "outputs": [],
   "source": [
    "trainval_data = []\n",
    "IMG_SIZE = 64\n",
    "\n",
    "def create_trainval_data():\n",
    "    for category in categories:\n",
    "        path = os.path.join(train_dir, category)\n",
    "        class_num = categories.index(category)\n",
    "        for img in os.listdir(path):\n",
    "            img_array = cv2.imread(os.path.join(path,img), cv2.IMREAD_UNCHANGED)\n",
    "            img_array = cv2.cvtColor(img_array, cv2.COLOR_BGR2RGB)\n",
    "            new_img_array = cv2.resize(img_array, (IMG_SIZE, IMG_SIZE))\n",
    "            trainval_data.append([new_img_array, class_num])\n",
    "\n",
    "create_trainval_data()"
   ]
  },
  {
   "cell_type": "code",
   "execution_count": 34,
   "metadata": {},
   "outputs": [],
   "source": [
    "test_data = []\n",
    "\n",
    "def create_test_data():\n",
    "    for category in categories:\n",
    "        path = os.path.join(test_dir, category)\n",
    "        class_num = categories.index(category)\n",
    "        for img in os.listdir(path):\n",
    "            img_array = cv2.imread(os.path.join(path,img), cv2.IMREAD_UNCHANGED)\n",
    "            img_array = cv2.cvtColor(img_array, cv2.COLOR_BGR2RGB)\n",
    "            new_img_array = cv2.resize(img_array, (IMG_SIZE, IMG_SIZE))\n",
    "            test_data.append([new_img_array, class_num])        \n",
    "            \n",
    "create_test_data()"
   ]
  },
  {
   "cell_type": "code",
   "execution_count": 35,
   "metadata": {},
   "outputs": [],
   "source": [
    "import random\n",
    "random.seed(42)\n",
    "random.shuffle(trainval_data)\n",
    "X = []\n",
    "y = []\n",
    "\n",
    "X_test = []\n",
    "y_test = []"
   ]
  },
  {
   "cell_type": "code",
   "execution_count": 37,
   "metadata": {},
   "outputs": [],
   "source": [
    "for features, labels in trainval_data:\n",
    "    X.append(features)\n",
    "    y.append(labels)\n",
    "    \n",
    "for features, labels in test_data:\n",
    "    X_test.append(features)\n",
    "    y_test.append(labels)"
   ]
  },
  {
   "cell_type": "code",
   "execution_count": 38,
   "metadata": {},
   "outputs": [],
   "source": [
    "X = np.array(X)\n",
    "y = np.array(y)\n",
    "X_test = np.array(X_test)\n",
    "y_test = np.array(y_test)"
   ]
  },
  {
   "cell_type": "code",
   "execution_count": 39,
   "metadata": {},
   "outputs": [
    {
     "name": "stdout",
     "output_type": "stream",
     "text": [
      "(308, 64, 64, 3)\n",
      "(308,)\n",
      "(30, 64, 64, 3)\n",
      "(30,)\n"
     ]
    }
   ],
   "source": [
    "print(X.shape)\n",
    "print(y.shape)\n",
    "print(X_test.shape)\n",
    "print(y_test.shape)"
   ]
  },
  {
   "cell_type": "code",
   "execution_count": 40,
   "metadata": {},
   "outputs": [],
   "source": [
    "X_train, X_valid, y_train, y_valid = train_test_split(X, y, test_size = 0.2)"
   ]
  },
  {
   "cell_type": "code",
   "execution_count": 41,
   "metadata": {},
   "outputs": [],
   "source": [
    "train_datagen = ImageDataGenerator(rotation_range = 40,\n",
    "                            width_shift_range = 0.2,\n",
    "                            height_shift_range = 0.2,\n",
    "                            rescale = 1. / 255,\n",
    "                            shear_range = 0.2,\n",
    "                            zoom_range = 0.2)\n",
    "\n",
    "validation_datagen = ImageDataGenerator(rescale = 1. / 255)\n",
    "\n",
    "test_datagen = ImageDataGenerator(rescale = 1. / 255)"
   ]
  },
  {
   "cell_type": "code",
   "execution_count": 42,
   "metadata": {},
   "outputs": [],
   "source": [
    "train_datagen.fit(X_train)\n",
    "validation_datagen.fit(X_valid)\n",
    "test_datagen.fit(X_train)"
   ]
  },
  {
   "cell_type": "code",
   "execution_count": 43,
   "metadata": {},
   "outputs": [],
   "source": [
    "y_train_categorical = to_categorical(y_train, 3)\n",
    "y_valid_categorical = to_categorical(y_valid, 3)\n",
    "y_test_categorical = to_categorical(y_test, 3)"
   ]
  },
  {
   "cell_type": "code",
   "execution_count": 44,
   "metadata": {},
   "outputs": [],
   "source": [
    "channels = 3\n",
    "train_img_size = len(X_train)\n",
    "batch_size = 64\n",
    "validation_img_size = len(X_valid)"
   ]
  },
  {
   "cell_type": "code",
   "execution_count": 45,
   "metadata": {},
   "outputs": [
    {
     "name": "stdout",
     "output_type": "stream",
     "text": [
      "Model: \"sequential_1\"\n",
      "_________________________________________________________________\n",
      "Layer (type)                 Output Shape              Param #   \n",
      "=================================================================\n",
      "conv2d_1 (Conv2D)            (None, 62, 62, 32)        896       \n",
      "_________________________________________________________________\n",
      "max_pooling2d_1 (MaxPooling2 (None, 31, 31, 32)        0         \n",
      "_________________________________________________________________\n",
      "conv2d_2 (Conv2D)            (None, 29, 29, 64)        18496     \n",
      "_________________________________________________________________\n",
      "max_pooling2d_2 (MaxPooling2 (None, 14, 14, 64)        0         \n",
      "_________________________________________________________________\n",
      "flatten_1 (Flatten)          (None, 12544)             0         \n",
      "_________________________________________________________________\n",
      "dense_1 (Dense)              (None, 64)                802880    \n",
      "_________________________________________________________________\n",
      "activation_1 (Activation)    (None, 64)                0         \n",
      "_________________________________________________________________\n",
      "dropout_1 (Dropout)          (None, 64)                0         \n",
      "_________________________________________________________________\n",
      "dense_2 (Dense)              (None, 3)                 195       \n",
      "_________________________________________________________________\n",
      "activation_2 (Activation)    (None, 3)                 0         \n",
      "=================================================================\n",
      "Total params: 822,467\n",
      "Trainable params: 822,467\n",
      "Non-trainable params: 0\n",
      "_________________________________________________________________\n"
     ]
    }
   ],
   "source": [
    "model = load_model('latestmodell2.h5')\n",
    "model.summary()\n",
    "\n",
    "\n",
    "#model = Sequential()\n",
    "\n",
    "#model.add(Conv2D(32, (3,3), input_shape = (IMG_SIZE, IMG_SIZE, channels), activation = 'relu', data_format = 'channels_last'))\n",
    "#model.add(MaxPooling2D(pool_size=(2,2), strides=2))\n",
    "\n",
    "#model.add(Conv2D(64, (3,3), activation = 'relu'))\n",
    "#model.add(MaxPooling2D(pool_size=(2,2), strides=2))\n",
    "\n",
    "#model.add(Flatten())\n",
    "#model.add(Dense(64))\n",
    "#model.add(Activation('relu'))\n",
    "#model.add(Dropout(0.375))\n",
    "#model.add(Dense(3))\n",
    "#model.add(Activation('softmax'))\n",
    "          \n",
    "#model.compile(loss = 'categorical_crossentropy', optimizer = 'Adam', metrics = ['accuracy'])\n",
    "#model.summary()"
   ]
  },
  {
   "cell_type": "code",
   "execution_count": 46,
   "metadata": {
    "scrolled": true
   },
   "outputs": [
    {
     "name": "stdout",
     "output_type": "stream",
     "text": [
      "Epoch 1/100\n",
      "8/8 [==============================] - 1s 137ms/step - loss: 0.0373 - accuracy: 0.9878 - val_loss: 1.9922e-04 - val_accuracy: 1.0000\n",
      "Epoch 2/100\n",
      "8/8 [==============================] - 1s 100ms/step - loss: 0.0343 - accuracy: 0.9837 - val_loss: 0.0061 - val_accuracy: 1.0000\n",
      "Epoch 3/100\n",
      "8/8 [==============================] - 1s 107ms/step - loss: 0.0376 - accuracy: 0.9837 - val_loss: 0.0108 - val_accuracy: 1.0000\n",
      "Epoch 4/100\n",
      "8/8 [==============================] - 1s 105ms/step - loss: 0.0292 - accuracy: 0.9959 - val_loss: 5.8862e-04 - val_accuracy: 1.0000\n",
      "Epoch 5/100\n",
      "8/8 [==============================] - 1s 106ms/step - loss: 0.0231 - accuracy: 0.9878 - val_loss: 7.0936e-04 - val_accuracy: 0.9839\n",
      "Epoch 6/100\n",
      "8/8 [==============================] - 1s 106ms/step - loss: 0.0184 - accuracy: 0.9878 - val_loss: 0.0065 - val_accuracy: 1.0000\n",
      "Epoch 7/100\n",
      "8/8 [==============================] - 1s 104ms/step - loss: 0.0262 - accuracy: 0.9959 - val_loss: 0.0098 - val_accuracy: 1.0000\n",
      "Epoch 8/100\n",
      "8/8 [==============================] - 1s 105ms/step - loss: 0.0200 - accuracy: 0.9919 - val_loss: 0.0014 - val_accuracy: 1.0000\n",
      "Epoch 9/100\n",
      "8/8 [==============================] - 1s 104ms/step - loss: 0.0223 - accuracy: 0.9878 - val_loss: 6.2386e-04 - val_accuracy: 1.0000\n",
      "Epoch 10/100\n",
      "8/8 [==============================] - 1s 106ms/step - loss: 0.0078 - accuracy: 0.9959 - val_loss: 2.8049e-04 - val_accuracy: 1.0000\n",
      "Epoch 11/100\n",
      "8/8 [==============================] - 1s 116ms/step - loss: 0.0205 - accuracy: 0.9919 - val_loss: 3.9212e-04 - val_accuracy: 1.0000\n",
      "Epoch 12/100\n",
      "8/8 [==============================] - 1s 111ms/step - loss: 0.0147 - accuracy: 0.9959 - val_loss: 0.0064 - val_accuracy: 1.0000\n",
      "Epoch 13/100\n",
      "8/8 [==============================] - 1s 112ms/step - loss: 0.0075 - accuracy: 1.0000 - val_loss: 0.0033 - val_accuracy: 1.0000\n",
      "Epoch 14/100\n",
      "8/8 [==============================] - 1s 124ms/step - loss: 0.0040 - accuracy: 1.0000 - val_loss: 0.0010 - val_accuracy: 1.0000\n",
      "Epoch 15/100\n",
      "8/8 [==============================] - 1s 103ms/step - loss: 0.0035 - accuracy: 1.0000 - val_loss: 0.0057 - val_accuracy: 1.0000\n",
      "Epoch 16/100\n",
      "8/8 [==============================] - 1s 114ms/step - loss: 0.0324 - accuracy: 0.9959 - val_loss: 0.2210 - val_accuracy: 0.9355\n",
      "Epoch 17/100\n",
      "8/8 [==============================] - 1s 124ms/step - loss: 0.0509 - accuracy: 0.9797 - val_loss: 0.1961 - val_accuracy: 0.9355\n",
      "Epoch 18/100\n",
      "8/8 [==============================] - 1s 123ms/step - loss: 0.0609 - accuracy: 0.9715 - val_loss: 0.5451 - val_accuracy: 0.9516\n",
      "Epoch 19/100\n",
      "8/8 [==============================] - 1s 112ms/step - loss: 0.0515 - accuracy: 0.9878 - val_loss: 0.1041 - val_accuracy: 0.9839\n",
      "Epoch 20/100\n",
      "8/8 [==============================] - 1s 102ms/step - loss: 0.0458 - accuracy: 0.9919 - val_loss: 0.0180 - val_accuracy: 1.0000\n",
      "Epoch 21/100\n",
      "8/8 [==============================] - 1s 99ms/step - loss: 0.0266 - accuracy: 0.9919 - val_loss: 3.3698e-04 - val_accuracy: 1.0000\n",
      "Epoch 22/100\n",
      "8/8 [==============================] - 1s 96ms/step - loss: 0.0142 - accuracy: 1.0000 - val_loss: 4.9716e-04 - val_accuracy: 1.0000\n",
      "Epoch 23/100\n",
      "8/8 [==============================] - 1s 119ms/step - loss: 0.0098 - accuracy: 1.0000 - val_loss: 8.0128e-04 - val_accuracy: 1.0000\n",
      "Epoch 24/100\n",
      "8/8 [==============================] - 1s 115ms/step - loss: 0.0062 - accuracy: 1.0000 - val_loss: 4.8212e-04 - val_accuracy: 1.0000\n",
      "Epoch 25/100\n",
      "8/8 [==============================] - 1s 106ms/step - loss: 0.0125 - accuracy: 0.9959 - val_loss: 2.7907e-04 - val_accuracy: 1.0000\n",
      "Epoch 26/100\n",
      "8/8 [==============================] - 1s 113ms/step - loss: 0.0081 - accuracy: 1.0000 - val_loss: 1.1286e-04 - val_accuracy: 1.0000\n",
      "Epoch 27/100\n",
      "8/8 [==============================] - 1s 113ms/step - loss: 0.0062 - accuracy: 1.0000 - val_loss: 0.0044 - val_accuracy: 1.0000\n",
      "Epoch 28/100\n",
      "8/8 [==============================] - 1s 123ms/step - loss: 0.0114 - accuracy: 0.9959 - val_loss: 0.0043 - val_accuracy: 1.0000\n",
      "Epoch 29/100\n",
      "8/8 [==============================] - 1s 116ms/step - loss: 0.0100 - accuracy: 0.9959 - val_loss: 0.0039 - val_accuracy: 1.0000\n",
      "Epoch 30/100\n",
      "8/8 [==============================] - 1s 109ms/step - loss: 0.0025 - accuracy: 1.0000 - val_loss: 0.0022 - val_accuracy: 1.0000\n",
      "Epoch 31/100\n",
      "8/8 [==============================] - 1s 112ms/step - loss: 0.0033 - accuracy: 1.0000 - val_loss: 5.0378e-04 - val_accuracy: 1.0000\n",
      "Epoch 32/100\n",
      "8/8 [==============================] - 1s 115ms/step - loss: 0.0021 - accuracy: 1.0000 - val_loss: 6.9487e-04 - val_accuracy: 1.0000\n",
      "Epoch 33/100\n",
      "8/8 [==============================] - 1s 113ms/step - loss: 0.0050 - accuracy: 1.0000 - val_loss: 2.0731e-04 - val_accuracy: 1.0000\n",
      "Epoch 34/100\n",
      "8/8 [==============================] - 1s 106ms/step - loss: 0.0073 - accuracy: 1.0000 - val_loss: 7.7416e-05 - val_accuracy: 1.0000\n",
      "Epoch 35/100\n",
      "8/8 [==============================] - 1s 109ms/step - loss: 0.0041 - accuracy: 1.0000 - val_loss: 0.0019 - val_accuracy: 0.9839\n",
      "Epoch 36/100\n",
      "8/8 [==============================] - 1s 117ms/step - loss: 0.0054 - accuracy: 1.0000 - val_loss: 0.0010 - val_accuracy: 1.0000\n",
      "Epoch 37/100\n",
      "8/8 [==============================] - 1s 111ms/step - loss: 0.0130 - accuracy: 0.9959 - val_loss: 9.3420e-04 - val_accuracy: 1.0000\n",
      "Epoch 38/100\n",
      "8/8 [==============================] - 1s 100ms/step - loss: 0.0045 - accuracy: 1.0000 - val_loss: 2.3194e-04 - val_accuracy: 1.0000\n",
      "Epoch 39/100\n",
      "8/8 [==============================] - 1s 102ms/step - loss: 0.0044 - accuracy: 1.0000 - val_loss: 1.5259e-06 - val_accuracy: 1.0000\n",
      "Epoch 40/100\n",
      "8/8 [==============================] - 1s 104ms/step - loss: 0.0039 - accuracy: 1.0000 - val_loss: 4.1050e-04 - val_accuracy: 1.0000\n",
      "Epoch 41/100\n",
      "8/8 [==============================] - 1s 117ms/step - loss: 0.0023 - accuracy: 1.0000 - val_loss: 6.4123e-04 - val_accuracy: 1.0000\n",
      "Epoch 42/100\n",
      "8/8 [==============================] - 1s 110ms/step - loss: 0.0017 - accuracy: 1.0000 - val_loss: 2.5029e-04 - val_accuracy: 1.0000\n",
      "Epoch 43/100\n",
      "8/8 [==============================] - 1s 106ms/step - loss: 0.0017 - accuracy: 1.0000 - val_loss: 1.4865e-04 - val_accuracy: 1.0000\n",
      "Epoch 44/100\n",
      "8/8 [==============================] - 1s 107ms/step - loss: 8.4759e-04 - accuracy: 1.0000 - val_loss: 2.0412e-05 - val_accuracy: 1.0000\n",
      "Epoch 45/100\n",
      "8/8 [==============================] - 1s 110ms/step - loss: 0.0011 - accuracy: 1.0000 - val_loss: 3.2006e-05 - val_accuracy: 1.0000\n",
      "Epoch 46/100\n",
      "8/8 [==============================] - 1s 120ms/step - loss: 0.0011 - accuracy: 1.0000 - val_loss: 1.3036e-05 - val_accuracy: 1.0000\n",
      "Epoch 47/100\n",
      "8/8 [==============================] - 1s 108ms/step - loss: 0.0026 - accuracy: 1.0000 - val_loss: 1.8360e-05 - val_accuracy: 1.0000\n",
      "Epoch 48/100\n",
      "8/8 [==============================] - 1s 108ms/step - loss: 0.0022 - accuracy: 1.0000 - val_loss: 1.7371e-05 - val_accuracy: 1.0000\n",
      "Epoch 49/100\n",
      "8/8 [==============================] - 1s 118ms/step - loss: 0.0015 - accuracy: 1.0000 - val_loss: 5.1297e-06 - val_accuracy: 1.0000\n",
      "Epoch 50/100\n",
      "8/8 [==============================] - 1s 106ms/step - loss: 2.4561e-04 - accuracy: 1.0000 - val_loss: 4.0324e-05 - val_accuracy: 1.0000\n",
      "Epoch 51/100\n",
      "8/8 [==============================] - 1s 132ms/step - loss: 7.1386e-04 - accuracy: 1.0000 - val_loss: 1.5833e-05 - val_accuracy: 1.0000\n",
      "Epoch 52/100\n",
      "8/8 [==============================] - 1s 116ms/step - loss: 0.0012 - accuracy: 1.0000 - val_loss: 2.1007e-05 - val_accuracy: 1.0000\n",
      "Epoch 53/100\n",
      "8/8 [==============================] - 1s 102ms/step - loss: 3.2635e-04 - accuracy: 1.0000 - val_loss: 2.5441e-05 - val_accuracy: 1.0000\n",
      "Epoch 54/100\n",
      "8/8 [==============================] - 1s 100ms/step - loss: 3.1189e-04 - accuracy: 1.0000 - val_loss: 1.1102e-05 - val_accuracy: 1.0000\n",
      "Epoch 55/100\n",
      "8/8 [==============================] - 1s 96ms/step - loss: 5.9342e-04 - accuracy: 1.0000 - val_loss: 9.2940e-06 - val_accuracy: 1.0000\n",
      "Epoch 56/100\n",
      "8/8 [==============================] - 1s 103ms/step - loss: 0.0023 - accuracy: 1.0000 - val_loss: 3.1094e-05 - val_accuracy: 1.0000\n",
      "Epoch 57/100\n"
     ]
    },
    {
     "name": "stdout",
     "output_type": "stream",
     "text": [
      "8/8 [==============================] - 1s 110ms/step - loss: 0.0052 - accuracy: 1.0000 - val_loss: 3.2977e-04 - val_accuracy: 1.0000\n",
      "Epoch 58/100\n",
      "8/8 [==============================] - 1s 100ms/step - loss: 0.0069 - accuracy: 0.9959 - val_loss: 2.3921e-06 - val_accuracy: 0.9839\n",
      "Epoch 59/100\n",
      "8/8 [==============================] - 1s 128ms/step - loss: 0.0153 - accuracy: 0.9959 - val_loss: 4.8058e-04 - val_accuracy: 1.0000\n",
      "Epoch 60/100\n",
      "8/8 [==============================] - 1s 106ms/step - loss: 0.0097 - accuracy: 0.9959 - val_loss: 0.0016 - val_accuracy: 1.0000\n",
      "Epoch 61/100\n",
      "8/8 [==============================] - 1s 115ms/step - loss: 0.0173 - accuracy: 0.9919 - val_loss: 1.1398e-04 - val_accuracy: 1.0000\n",
      "Epoch 62/100\n",
      "8/8 [==============================] - 1s 107ms/step - loss: 0.0054 - accuracy: 1.0000 - val_loss: 1.8726e-04 - val_accuracy: 1.0000\n",
      "Epoch 63/100\n",
      "8/8 [==============================] - 1s 103ms/step - loss: 0.0144 - accuracy: 0.9959 - val_loss: 0.0038 - val_accuracy: 1.0000\n",
      "Epoch 64/100\n",
      "8/8 [==============================] - 1s 115ms/step - loss: 0.0035 - accuracy: 1.0000 - val_loss: 0.0047 - val_accuracy: 1.0000\n",
      "Epoch 65/100\n",
      "8/8 [==============================] - 1s 160ms/step - loss: 0.0029 - accuracy: 1.0000 - val_loss: 2.4555e-05 - val_accuracy: 1.0000\n",
      "Epoch 66/100\n",
      "8/8 [==============================] - 1s 147ms/step - loss: 0.0015 - accuracy: 1.0000 - val_loss: 4.4735e-05 - val_accuracy: 1.0000\n",
      "Epoch 67/100\n",
      "8/8 [==============================] - 1s 148ms/step - loss: 0.0012 - accuracy: 1.0000 - val_loss: 8.0245e-05 - val_accuracy: 1.0000\n",
      "Epoch 68/100\n",
      "8/8 [==============================] - 1s 116ms/step - loss: 7.4592e-04 - accuracy: 1.0000 - val_loss: 1.2782e-05 - val_accuracy: 1.0000\n",
      "Epoch 69/100\n",
      "8/8 [==============================] - 1s 106ms/step - loss: 0.0024 - accuracy: 1.0000 - val_loss: 4.6581e-05 - val_accuracy: 1.0000\n",
      "Epoch 70/100\n",
      "8/8 [==============================] - 1s 108ms/step - loss: 0.0012 - accuracy: 1.0000 - val_loss: 7.3389e-06 - val_accuracy: 1.0000\n",
      "Epoch 71/100\n",
      "8/8 [==============================] - 1s 113ms/step - loss: 0.0044 - accuracy: 0.9959 - val_loss: 0.0043 - val_accuracy: 1.0000\n",
      "Epoch 72/100\n",
      "8/8 [==============================] - 1s 114ms/step - loss: 0.0074 - accuracy: 0.9959 - val_loss: 1.8417e-04 - val_accuracy: 1.0000\n",
      "Epoch 73/100\n",
      "8/8 [==============================] - 1s 102ms/step - loss: 0.0029 - accuracy: 1.0000 - val_loss: 0.0116 - val_accuracy: 1.0000\n",
      "Epoch 74/100\n",
      "8/8 [==============================] - 1s 102ms/step - loss: 7.9007e-04 - accuracy: 1.0000 - val_loss: 0.0256 - val_accuracy: 0.9839\n",
      "Epoch 75/100\n",
      "8/8 [==============================] - 1s 99ms/step - loss: 0.0030 - accuracy: 1.0000 - val_loss: 0.0012 - val_accuracy: 1.0000\n",
      "Epoch 76/100\n",
      "8/8 [==============================] - 1s 99ms/step - loss: 0.0041 - accuracy: 0.9959 - val_loss: 0.0042 - val_accuracy: 1.0000\n",
      "Epoch 77/100\n",
      "8/8 [==============================] - 1s 108ms/step - loss: 1.0112e-04 - accuracy: 1.0000 - val_loss: 2.6980e-06 - val_accuracy: 1.0000\n",
      "Epoch 78/100\n",
      "8/8 [==============================] - 1s 104ms/step - loss: 8.8548e-04 - accuracy: 1.0000 - val_loss: 2.8811e-05 - val_accuracy: 1.0000\n",
      "Epoch 79/100\n",
      "8/8 [==============================] - 1s 123ms/step - loss: 3.1619e-04 - accuracy: 1.0000 - val_loss: 2.2826e-05 - val_accuracy: 1.0000\n",
      "Epoch 80/100\n",
      "8/8 [==============================] - 1s 99ms/step - loss: 0.0014 - accuracy: 1.0000 - val_loss: 1.1420e-05 - val_accuracy: 1.0000\n",
      "Epoch 81/100\n",
      "8/8 [==============================] - 1s 110ms/step - loss: 3.9935e-04 - accuracy: 1.0000 - val_loss: 1.9041e-04 - val_accuracy: 1.0000\n",
      "Epoch 82/100\n",
      "8/8 [==============================] - 1s 96ms/step - loss: 8.9415e-04 - accuracy: 1.0000 - val_loss: 4.5419e-04 - val_accuracy: 1.0000\n",
      "Epoch 83/100\n",
      "8/8 [==============================] - 1s 98ms/step - loss: 1.3218e-04 - accuracy: 1.0000 - val_loss: 3.6520e-05 - val_accuracy: 1.0000\n",
      "Epoch 84/100\n",
      "8/8 [==============================] - 1s 95ms/step - loss: 7.8172e-04 - accuracy: 1.0000 - val_loss: 1.6292e-07 - val_accuracy: 1.0000\n",
      "Epoch 85/100\n",
      "8/8 [==============================] - 1s 97ms/step - loss: 2.5964e-04 - accuracy: 1.0000 - val_loss: 9.6559e-07 - val_accuracy: 1.0000\n",
      "Epoch 86/100\n",
      "8/8 [==============================] - 1s 94ms/step - loss: 4.4016e-04 - accuracy: 1.0000 - val_loss: 1.0509e-05 - val_accuracy: 1.0000\n",
      "Epoch 87/100\n",
      "8/8 [==============================] - 1s 97ms/step - loss: 2.1473e-04 - accuracy: 1.0000 - val_loss: 9.0995e-07 - val_accuracy: 1.0000\n",
      "Epoch 88/100\n",
      "8/8 [==============================] - 1s 95ms/step - loss: 6.5004e-04 - accuracy: 1.0000 - val_loss: 1.3647e-05 - val_accuracy: 1.0000\n",
      "Epoch 89/100\n",
      "8/8 [==============================] - 1s 99ms/step - loss: 3.7949e-04 - accuracy: 1.0000 - val_loss: 7.0847e-06 - val_accuracy: 1.0000\n",
      "Epoch 90/100\n",
      "8/8 [==============================] - 1s 97ms/step - loss: 7.7147e-04 - accuracy: 1.0000 - val_loss: 1.0442e-05 - val_accuracy: 1.0000\n",
      "Epoch 91/100\n",
      "8/8 [==============================] - 1s 110ms/step - loss: 0.0010 - accuracy: 1.0000 - val_loss: 6.2143e-06 - val_accuracy: 1.0000\n",
      "Epoch 92/100\n",
      "8/8 [==============================] - 1s 96ms/step - loss: 8.5217e-04 - accuracy: 1.0000 - val_loss: 4.8081e-07 - val_accuracy: 1.0000\n",
      "Epoch 93/100\n",
      "8/8 [==============================] - 1s 98ms/step - loss: 0.0010 - accuracy: 1.0000 - val_loss: 1.0148e-05 - val_accuracy: 1.0000\n",
      "Epoch 94/100\n",
      "8/8 [==============================] - 1s 112ms/step - loss: 3.0597e-04 - accuracy: 1.0000 - val_loss: 9.0945e-06 - val_accuracy: 1.0000\n",
      "Epoch 95/100\n",
      "8/8 [==============================] - 1s 121ms/step - loss: 2.4708e-04 - accuracy: 1.0000 - val_loss: 2.5550e-06 - val_accuracy: 1.0000\n",
      "Epoch 96/100\n",
      "8/8 [==============================] - 1s 112ms/step - loss: 8.6655e-05 - accuracy: 1.0000 - val_loss: 1.4384e-06 - val_accuracy: 1.0000\n",
      "Epoch 97/100\n",
      "8/8 [==============================] - 1s 109ms/step - loss: 8.2863e-05 - accuracy: 1.0000 - val_loss: 2.9603e-06 - val_accuracy: 1.0000\n",
      "Epoch 98/100\n",
      "8/8 [==============================] - 1s 105ms/step - loss: 0.0011 - accuracy: 1.0000 - val_loss: 3.1669e-06 - val_accuracy: 1.0000\n",
      "Epoch 99/100\n",
      "8/8 [==============================] - 1s 101ms/step - loss: 0.0019 - accuracy: 1.0000 - val_loss: 3.1789e-07 - val_accuracy: 1.0000\n",
      "Epoch 100/100\n",
      "8/8 [==============================] - 1s 105ms/step - loss: 0.0579 - accuracy: 0.9878 - val_loss: 0.0161 - val_accuracy: 1.0000\n"
     ]
    }
   ],
   "source": [
    "history = model.fit(train_datagen.flow(X_train, y_train_categorical),\n",
    "                              validation_data=validation_datagen.flow(X_valid, y_valid_categorical),\n",
    "                                                                      epochs=100)"
   ]
  },
  {
   "cell_type": "code",
   "execution_count": 47,
   "metadata": {},
   "outputs": [
    {
     "name": "stdout",
     "output_type": "stream",
     "text": [
      "\r",
      "30/30 [==============================] - 0s 3ms/step\n"
     ]
    }
   ],
   "source": [
    "score = model.evaluate(X_test, y_test_categorical)"
   ]
  },
  {
   "cell_type": "code",
   "execution_count": 48,
   "metadata": {},
   "outputs": [
    {
     "data": {
      "text/plain": [
       "[77.5342788696289, 0.8999999761581421]"
      ]
     },
     "execution_count": 48,
     "metadata": {},
     "output_type": "execute_result"
    }
   ],
   "source": [
    "score"
   ]
  },
  {
   "cell_type": "code",
   "execution_count": 49,
   "metadata": {},
   "outputs": [
    {
     "name": "stdout",
     "output_type": "stream",
     "text": [
      "The random image label is  7\n"
     ]
    },
    {
     "data": {
      "image/png": "[encoded data removed]",
      "text/plain": [
       "<Figure size 432x288 with 1 Axes>"
      ]
     },
     "metadata": {
      "needs_background": "light"
     },
     "output_type": "display_data"
    },
    {
     "name": "stdout",
     "output_type": "stream",
     "text": [
      "Predicted Sign[0]\n"
     ]
    }
   ],
   "source": [
    "#plt.imshow(X_test[6])\n",
    "random_img = random.randint(0,29)\n",
    "print(\"The random image label is \", random_img)\n",
    "plt.imshow(X_test[random_img])\n",
    "plt.show()\n",
    "print('Predicted Sign' + str\n",
    "         (model.predict_classes(X_test[random_img].reshape(1,64,64,3))))"
   ]
  },
  {
   "cell_type": "code",
   "execution_count": 57,
   "metadata": {},
   "outputs": [
    {
     "name": "stdout",
     "output_type": "stream",
     "text": [
      "The random image label is  14\n"
     ]
    },
    {
     "data": {
      "image/png": "[encoded data removed]",
      "text/plain": [
       "<Figure size 432x288 with 1 Axes>"
      ]
     },
     "metadata": {
      "needs_background": "light"
     },
     "output_type": "display_data"
    },
    {
     "name": "stdout",
     "output_type": "stream",
     "text": [
      "Predicted Sign[1]\n"
     ]
    }
   ],
   "source": [
    "#plt.imshow(X_test[6])\n",
    "random_img = random.randint(0,29)\n",
    "print(\"The random image label is \", random_img)\n",
    "plt.imshow(X_test[random_img])\n",
    "plt.show()\n",
    "print('Predicted Sign' + str\n",
    "         (model.predict_classes(X_test[random_img].reshape(1,64,64,3))))"
   ]
  },
  {
   "cell_type": "code",
   "execution_count": 51,
   "metadata": {},
   "outputs": [
    {
     "name": "stdout",
     "output_type": "stream",
     "text": [
      "The random image label is  22\n"
     ]
    },
    {
     "data": {
      "image/png": "[encoded data removed]",
      "text/plain": [
       "<Figure size 432x288 with 1 Axes>"
      ]
     },
     "metadata": {
      "needs_background": "light"
     },
     "output_type": "display_data"
    },
    {
     "name": "stdout",
     "output_type": "stream",
     "text": [
      "Predicted Sign[2]\n"
     ]
    }
   ],
   "source": [
    "#plt.imshow(X_test[6])\n",
    "random_img = random.randint(0,29)\n",
    "print(\"The random image label is \", random_img)\n",
    "plt.imshow(X_test[random_img])\n",
    "plt.show()\n",
    "print('Predicted Sign' + str\n",
    "         (model.predict_classes(X_test[random_img].reshape(1,64,64,3))))"
   ]
  },
  {
   "cell_type": "code",
   "execution_count": 52,
   "metadata": {},
   "outputs": [
    {
     "name": "stdout",
     "output_type": "stream",
     "text": [
      "Predicted Sign[0]\n",
      "Predicted Sign[0]\n",
      "Predicted Sign[0]\n",
      "Predicted Sign[0]\n",
      "Predicted Sign[2]\n",
      "Predicted Sign[0]\n",
      "Predicted Sign[0]\n",
      "Predicted Sign[0]\n",
      "Predicted Sign[0]\n",
      "Predicted Sign[0]\n",
      "Predicted Sign[1]\n",
      "Predicted Sign[1]\n",
      "Predicted Sign[1]\n",
      "Predicted Sign[1]\n",
      "Predicted Sign[1]\n",
      "Predicted Sign[2]\n",
      "Predicted Sign[1]\n",
      "Predicted Sign[1]\n",
      "Predicted Sign[1]\n",
      "Predicted Sign[2]\n",
      "Predicted Sign[2]\n",
      "Predicted Sign[2]\n",
      "Predicted Sign[2]\n",
      "Predicted Sign[2]\n",
      "Predicted Sign[2]\n",
      "Predicted Sign[2]\n",
      "Predicted Sign[2]\n",
      "Predicted Sign[2]\n",
      "Predicted Sign[2]\n",
      "Predicted Sign[2]\n"
     ]
    }
   ],
   "source": [
    "for i in range(len(X_test)):\n",
    "    print('Predicted Sign' + str\n",
    "         (model.predict_classes(X_test[i].reshape(1,64,64,3))))"
   ]
  },
  {
   "cell_type": "code",
   "execution_count": 53,
   "metadata": {},
   "outputs": [],
   "source": [
    "y_pred = model.predict(X_test)"
   ]
  },
  {
   "cell_type": "code",
   "execution_count": 58,
   "metadata": {},
   "outputs": [],
   "source": [
    "results_class = np.argmax(y_pred, axis=1, out=None)"
   ]
  },
  {
   "cell_type": "code",
   "execution_count": 59,
   "metadata": {},
   "outputs": [
    {
     "name": "stdout",
     "output_type": "stream",
     "text": [
      "[[ 9  0  0]\n",
      " [ 0  8  0]\n",
      " [ 1  2 10]]\n"
     ]
    }
   ],
   "source": [
    "from sklearn.metrics import confusion_matrix\n",
    "\n",
    "print(confusion_matrix(results_class, y_test))"
   ]
  },
  {
   "cell_type": "code",
   "execution_count": 60,
   "metadata": {},
   "outputs": [
    {
     "name": "stdout",
     "output_type": "stream",
     "text": [
      "              precision    recall  f1-score   support\n",
      "\n",
      "           0       0.90      1.00      0.95         9\n",
      "           1       0.80      1.00      0.89         8\n",
      "           2       1.00      0.77      0.87        13\n",
      "\n",
      "    accuracy                           0.90        30\n",
      "   macro avg       0.90      0.92      0.90        30\n",
      "weighted avg       0.92      0.90      0.90        30\n",
      "\n"
     ]
    }
   ],
   "source": [
    "from sklearn.metrics import classification_report\n",
    "\n",
    "print(classification_report(results_class, y_test))"
   ]
  },
  {
   "cell_type": "markdown",
   "metadata": {},
   "source": [
    "# Level 3"
   ]
  },
  {
   "cell_type": "code",
   "execution_count": 61,
   "metadata": {},
   "outputs": [],
   "source": [
    "train_dir = \"Level 3/train\"\n",
    "test_dir = \"Level 3/test\"\n",
    "categories = [\"guide\",\"regulatory\",\"warning\"]"
   ]
  },
  {
   "cell_type": "code",
   "execution_count": 62,
   "metadata": {},
   "outputs": [],
   "source": [
    "trainval_data = []\n",
    "IMG_SIZE = 64\n",
    "\n",
    "def create_trainval_data():\n",
    "    for category in categories:\n",
    "        path = os.path.join(train_dir, category)\n",
    "        class_num = categories.index(category)\n",
    "        for img in os.listdir(path):\n",
    "            img_array = cv2.imread(os.path.join(path,img), cv2.IMREAD_UNCHANGED)\n",
    "            img_array = cv2.cvtColor(img_array, cv2.COLOR_BGR2RGB)\n",
    "            new_img_array = cv2.resize(img_array, (IMG_SIZE, IMG_SIZE))\n",
    "            trainval_data.append([new_img_array, class_num])\n",
    "\n",
    "create_trainval_data()"
   ]
  },
  {
   "cell_type": "code",
   "execution_count": 63,
   "metadata": {},
   "outputs": [],
   "source": [
    "test_data = []\n",
    "\n",
    "def create_test_data():\n",
    "    for category in categories:\n",
    "        path = os.path.join(test_dir, category)\n",
    "        class_num = categories.index(category)\n",
    "        for img in os.listdir(path):\n",
    "            img_array = cv2.imread(os.path.join(path,img), cv2.IMREAD_UNCHANGED)\n",
    "            img_array = cv2.cvtColor(img_array, cv2.COLOR_BGR2RGB)\n",
    "            new_img_array = cv2.resize(img_array, (IMG_SIZE, IMG_SIZE))\n",
    "            test_data.append([new_img_array, class_num])        \n",
    "            \n",
    "create_test_data()"
   ]
  },
  {
   "cell_type": "code",
   "execution_count": 64,
   "metadata": {},
   "outputs": [],
   "source": [
    "import random\n",
    "random.seed(42)\n",
    "random.shuffle(trainval_data)\n",
    "X = []\n",
    "y = []\n",
    "\n",
    "X_test = []\n",
    "y_test = []"
   ]
  },
  {
   "cell_type": "code",
   "execution_count": 65,
   "metadata": {},
   "outputs": [],
   "source": [
    "for features, labels in trainval_data:\n",
    "    X.append(features)\n",
    "    y.append(labels)\n",
    "    \n",
    "for features, labels in test_data:\n",
    "    X_test.append(features)\n",
    "    y_test.append(labels)"
   ]
  },
  {
   "cell_type": "code",
   "execution_count": 66,
   "metadata": {},
   "outputs": [],
   "source": [
    "X = np.array(X)\n",
    "y = np.array(y)\n",
    "X_test = np.array(X_test)\n",
    "y_test = np.array(y_test)"
   ]
  },
  {
   "cell_type": "code",
   "execution_count": 67,
   "metadata": {},
   "outputs": [
    {
     "name": "stdout",
     "output_type": "stream",
     "text": [
      "(226, 64, 64, 3)\n",
      "(226,)\n",
      "(25, 64, 64, 3)\n",
      "(25,)\n"
     ]
    }
   ],
   "source": [
    "print(X.shape)\n",
    "print(y.shape)\n",
    "print(X_test.shape)\n",
    "print(y_test.shape)"
   ]
  },
  {
   "cell_type": "code",
   "execution_count": 68,
   "metadata": {},
   "outputs": [],
   "source": [
    "X_train, X_valid, y_train, y_valid = train_test_split(X, y, test_size = 0.2)"
   ]
  },
  {
   "cell_type": "code",
   "execution_count": 69,
   "metadata": {},
   "outputs": [],
   "source": [
    "train_datagen = ImageDataGenerator(rotation_range = 40,\n",
    "                            width_shift_range = 0.2,\n",
    "                            height_shift_range = 0.2,\n",
    "                            rescale = 1. / 255,\n",
    "                            shear_range = 0.2,\n",
    "                            zoom_range = 0.2)\n",
    "\n",
    "validation_datagen = ImageDataGenerator(rescale = 1. / 255)\n",
    "\n",
    "test_datagen = ImageDataGenerator(rescale = 1. / 255)"
   ]
  },
  {
   "cell_type": "code",
   "execution_count": 70,
   "metadata": {},
   "outputs": [],
   "source": [
    "train_datagen.fit(X_train)\n",
    "validation_datagen.fit(X_valid)\n",
    "test_datagen.fit(X_train)"
   ]
  },
  {
   "cell_type": "code",
   "execution_count": 71,
   "metadata": {},
   "outputs": [],
   "source": [
    "y_train_categorical = to_categorical(y_train, 3)\n",
    "y_valid_categorical = to_categorical(y_valid, 3)\n",
    "y_test_categorical = to_categorical(y_test, 3)"
   ]
  },
  {
   "cell_type": "code",
   "execution_count": 72,
   "metadata": {},
   "outputs": [],
   "source": [
    "channels = 3\n",
    "train_img_size = len(X_train)\n",
    "batch_size = 64\n",
    "validation_img_size = len(X_valid)"
   ]
  },
  {
   "cell_type": "code",
   "execution_count": 73,
   "metadata": {},
   "outputs": [
    {
     "name": "stdout",
     "output_type": "stream",
     "text": [
      "Model: \"sequential_1\"\n",
      "_________________________________________________________________\n",
      "Layer (type)                 Output Shape              Param #   \n",
      "=================================================================\n",
      "conv2d_1 (Conv2D)            (None, 62, 62, 32)        896       \n",
      "_________________________________________________________________\n",
      "max_pooling2d_1 (MaxPooling2 (None, 31, 31, 32)        0         \n",
      "_________________________________________________________________\n",
      "conv2d_2 (Conv2D)            (None, 29, 29, 64)        18496     \n",
      "_________________________________________________________________\n",
      "max_pooling2d_2 (MaxPooling2 (None, 14, 14, 64)        0         \n",
      "_________________________________________________________________\n",
      "flatten_1 (Flatten)          (None, 12544)             0         \n",
      "_________________________________________________________________\n",
      "dense_1 (Dense)              (None, 64)                802880    \n",
      "_________________________________________________________________\n",
      "activation_1 (Activation)    (None, 64)                0         \n",
      "_________________________________________________________________\n",
      "dropout_1 (Dropout)          (None, 64)                0         \n",
      "_________________________________________________________________\n",
      "dense_2 (Dense)              (None, 3)                 195       \n",
      "_________________________________________________________________\n",
      "activation_2 (Activation)    (None, 3)                 0         \n",
      "=================================================================\n",
      "Total params: 822,467\n",
      "Trainable params: 822,467\n",
      "Non-trainable params: 0\n",
      "_________________________________________________________________\n"
     ]
    }
   ],
   "source": [
    "model = load_model('decentmodel3.h5')\n",
    "model.summary()\n",
    "\n",
    "#model = Sequential()\n",
    "\n",
    "#model.add(Conv2D(32, (3,3), input_shape = (IMG_SIZE, IMG_SIZE, channels), activation = 'relu', data_format = 'channels_last'))\n",
    "#model.add(MaxPooling2D(pool_size=(2,2), strides=2))\n",
    "\n",
    "#model.add(Conv2D(64, (3,3), activation = 'relu'))\n",
    "#model.add(MaxPooling2D(pool_size=(2,2), strides=2))\n",
    "\n",
    "#model.add(Flatten())\n",
    "#model.add(Dense(64))\n",
    "#model.add(Activation('relu'))\n",
    "#model.add(Dropout(0.375))\n",
    "#model.add(Dense(3))\n",
    "#model.add(Activation('softmax'))\n",
    "          \n",
    "#model.compile(loss = 'categorical_crossentropy', optimizer = 'adam', metrics = ['accuracy'])\n",
    "#model.summary()"
   ]
  },
  {
   "cell_type": "code",
   "execution_count": 74,
   "metadata": {
    "scrolled": true
   },
   "outputs": [
    {
     "name": "stdout",
     "output_type": "stream",
     "text": [
      "Epoch 1/250\n",
      "6/6 [==============================] - 1s 141ms/step - loss: 0.3890 - accuracy: 0.8500 - val_loss: 0.2005 - val_accuracy: 0.8913\n",
      "Epoch 2/250\n",
      "6/6 [==============================] - 1s 119ms/step - loss: 0.3336 - accuracy: 0.8833 - val_loss: 0.3264 - val_accuracy: 0.8913\n",
      "Epoch 3/250\n",
      "6/6 [==============================] - 1s 111ms/step - loss: 0.3009 - accuracy: 0.9167 - val_loss: 0.4876 - val_accuracy: 0.7826\n",
      "Epoch 4/250\n",
      "6/6 [==============================] - 1s 108ms/step - loss: 0.4101 - accuracy: 0.8500 - val_loss: 0.3323 - val_accuracy: 0.8478\n",
      "Epoch 5/250\n",
      "6/6 [==============================] - 1s 125ms/step - loss: 0.3279 - accuracy: 0.8500 - val_loss: 0.5354 - val_accuracy: 0.8696\n",
      "Epoch 6/250\n",
      "6/6 [==============================] - 1s 116ms/step - loss: 0.3138 - accuracy: 0.8944 - val_loss: 0.1685 - val_accuracy: 0.8913\n",
      "Epoch 7/250\n",
      "6/6 [==============================] - 1s 98ms/step - loss: 0.3477 - accuracy: 0.8778 - val_loss: 0.1913 - val_accuracy: 0.9130\n",
      "Epoch 8/250\n",
      "6/6 [==============================] - 1s 102ms/step - loss: 0.3279 - accuracy: 0.8944 - val_loss: 0.2146 - val_accuracy: 0.8261\n",
      "Epoch 9/250\n",
      "6/6 [==============================] - 1s 104ms/step - loss: 0.3062 - accuracy: 0.8667 - val_loss: 0.1683 - val_accuracy: 0.8478\n",
      "Epoch 10/250\n",
      "6/6 [==============================] - 1s 122ms/step - loss: 0.3896 - accuracy: 0.8667 - val_loss: 0.4465 - val_accuracy: 0.9348\n",
      "Epoch 11/250\n",
      "6/6 [==============================] - 1s 141ms/step - loss: 0.2630 - accuracy: 0.9167 - val_loss: 0.8147 - val_accuracy: 0.9130\n",
      "Epoch 12/250\n",
      "6/6 [==============================] - 1s 99ms/step - loss: 0.2905 - accuracy: 0.9000 - val_loss: 0.4817 - val_accuracy: 0.8478\n",
      "Epoch 13/250\n",
      "6/6 [==============================] - 1s 122ms/step - loss: 0.3802 - accuracy: 0.9000 - val_loss: 0.5498 - val_accuracy: 0.8478\n",
      "Epoch 14/250\n",
      "6/6 [==============================] - 1s 104ms/step - loss: 0.3075 - accuracy: 0.8722 - val_loss: 0.1005 - val_accuracy: 0.8913\n",
      "Epoch 15/250\n",
      "6/6 [==============================] - 1s 103ms/step - loss: 0.3011 - accuracy: 0.8778 - val_loss: 0.2014 - val_accuracy: 0.8913\n",
      "Epoch 16/250\n",
      "6/6 [==============================] - 1s 104ms/step - loss: 0.3490 - accuracy: 0.8667 - val_loss: 0.3522 - val_accuracy: 0.8696\n",
      "Epoch 17/250\n",
      "6/6 [==============================] - 1s 119ms/step - loss: 0.1988 - accuracy: 0.9333 - val_loss: 1.0439 - val_accuracy: 0.8478\n",
      "Epoch 18/250\n",
      "6/6 [==============================] - 1s 114ms/step - loss: 0.2279 - accuracy: 0.8944 - val_loss: 0.3527 - val_accuracy: 0.8043\n",
      "Epoch 19/250\n",
      "6/6 [==============================] - 1s 105ms/step - loss: 0.3833 - accuracy: 0.8333 - val_loss: 0.7470 - val_accuracy: 0.7391\n",
      "Epoch 20/250\n",
      "6/6 [==============================] - 1s 113ms/step - loss: 0.2613 - accuracy: 0.9167 - val_loss: 0.1875 - val_accuracy: 0.8696\n",
      "Epoch 21/250\n",
      "6/6 [==============================] - 1s 109ms/step - loss: 0.3990 - accuracy: 0.8778 - val_loss: 0.2880 - val_accuracy: 0.8261\n",
      "Epoch 22/250\n",
      "6/6 [==============================] - 1s 108ms/step - loss: 0.2469 - accuracy: 0.9278 - val_loss: 0.1003 - val_accuracy: 0.8478\n",
      "Epoch 23/250\n",
      "6/6 [==============================] - 1s 116ms/step - loss: 0.2880 - accuracy: 0.9056 - val_loss: 0.4932 - val_accuracy: 0.8261\n",
      "Epoch 24/250\n",
      "6/6 [==============================] - 1s 110ms/step - loss: 0.3293 - accuracy: 0.8944 - val_loss: 0.8121 - val_accuracy: 0.8478\n",
      "Epoch 25/250\n",
      "6/6 [==============================] - 1s 126ms/step - loss: 0.2386 - accuracy: 0.8833 - val_loss: 0.1591 - val_accuracy: 0.9130\n",
      "Epoch 26/250\n",
      "6/6 [==============================] - 1s 120ms/step - loss: 0.2866 - accuracy: 0.9222 - val_loss: 0.6767 - val_accuracy: 0.8478\n",
      "Epoch 27/250\n",
      "6/6 [==============================] - 1s 103ms/step - loss: 0.2784 - accuracy: 0.9167 - val_loss: 0.8716 - val_accuracy: 0.8043\n",
      "Epoch 28/250\n",
      "6/6 [==============================] - 1s 109ms/step - loss: 0.2069 - accuracy: 0.9444 - val_loss: 0.6745 - val_accuracy: 0.8696\n",
      "Epoch 29/250\n",
      "6/6 [==============================] - 1s 110ms/step - loss: 0.1580 - accuracy: 0.9556 - val_loss: 1.1723 - val_accuracy: 0.8696\n",
      "Epoch 30/250\n",
      "6/6 [==============================] - 1s 118ms/step - loss: 0.2117 - accuracy: 0.9167 - val_loss: 0.0425 - val_accuracy: 0.8696\n",
      "Epoch 31/250\n",
      "6/6 [==============================] - 1s 125ms/step - loss: 0.3369 - accuracy: 0.8778 - val_loss: 0.2312 - val_accuracy: 0.9130\n",
      "Epoch 32/250\n",
      "6/6 [==============================] - 1s 117ms/step - loss: 0.2230 - accuracy: 0.9389 - val_loss: 0.5291 - val_accuracy: 0.8478\n",
      "Epoch 33/250\n",
      "6/6 [==============================] - 1s 123ms/step - loss: 0.2289 - accuracy: 0.9278 - val_loss: 0.2165 - val_accuracy: 0.8913\n",
      "Epoch 34/250\n",
      "6/6 [==============================] - 1s 121ms/step - loss: 0.1784 - accuracy: 0.9444 - val_loss: 0.6935 - val_accuracy: 0.8913\n",
      "Epoch 35/250\n",
      "6/6 [==============================] - 1s 122ms/step - loss: 0.2349 - accuracy: 0.9056 - val_loss: 0.5109 - val_accuracy: 0.8478\n",
      "Epoch 36/250\n",
      "6/6 [==============================] - 1s 107ms/step - loss: 0.1860 - accuracy: 0.9556 - val_loss: 0.1511 - val_accuracy: 0.8696\n",
      "Epoch 37/250\n",
      "6/6 [==============================] - 1s 103ms/step - loss: 0.2059 - accuracy: 0.9389 - val_loss: 0.2463 - val_accuracy: 0.9130\n",
      "Epoch 38/250\n",
      "6/6 [==============================] - 1s 101ms/step - loss: 0.3239 - accuracy: 0.9000 - val_loss: 0.0904 - val_accuracy: 0.8478\n",
      "Epoch 39/250\n",
      "6/6 [==============================] - 1s 102ms/step - loss: 0.2186 - accuracy: 0.9222 - val_loss: 0.7404 - val_accuracy: 0.8478\n",
      "Epoch 40/250\n",
      "6/6 [==============================] - 1s 107ms/step - loss: 0.2060 - accuracy: 0.9167 - val_loss: 0.8193 - val_accuracy: 0.8913\n",
      "Epoch 41/250\n",
      "6/6 [==============================] - 1s 121ms/step - loss: 0.1796 - accuracy: 0.9444 - val_loss: 0.7488 - val_accuracy: 0.8261\n",
      "Epoch 42/250\n",
      "6/6 [==============================] - 1s 103ms/step - loss: 0.1940 - accuracy: 0.9389 - val_loss: 0.2820 - val_accuracy: 0.8478\n",
      "Epoch 43/250\n",
      "6/6 [==============================] - 1s 107ms/step - loss: 0.2714 - accuracy: 0.8944 - val_loss: 0.7511 - val_accuracy: 0.8043\n",
      "Epoch 44/250\n",
      "6/6 [==============================] - 1s 111ms/step - loss: 0.2793 - accuracy: 0.9000 - val_loss: 0.5902 - val_accuracy: 0.8478\n",
      "Epoch 45/250\n",
      "6/6 [==============================] - 1s 114ms/step - loss: 0.3171 - accuracy: 0.8667 - val_loss: 0.9026 - val_accuracy: 0.7391\n",
      "Epoch 46/250\n",
      "6/6 [==============================] - 1s 110ms/step - loss: 0.2641 - accuracy: 0.9167 - val_loss: 0.1300 - val_accuracy: 0.8696\n",
      "Epoch 47/250\n",
      "6/6 [==============================] - 1s 103ms/step - loss: 0.1885 - accuracy: 0.9333 - val_loss: 0.6908 - val_accuracy: 0.8913\n",
      "Epoch 48/250\n",
      "6/6 [==============================] - 1s 113ms/step - loss: 0.1631 - accuracy: 0.9667 - val_loss: 0.3764 - val_accuracy: 0.8478\n",
      "Epoch 49/250\n",
      "6/6 [==============================] - 1s 109ms/step - loss: 0.1890 - accuracy: 0.9333 - val_loss: 1.0361 - val_accuracy: 0.8696\n",
      "Epoch 50/250\n",
      "6/6 [==============================] - 1s 116ms/step - loss: 0.1781 - accuracy: 0.9444 - val_loss: 0.0986 - val_accuracy: 0.8913\n",
      "Epoch 51/250\n",
      "6/6 [==============================] - 1s 122ms/step - loss: 0.2031 - accuracy: 0.9167 - val_loss: 1.2129 - val_accuracy: 0.8478\n",
      "Epoch 52/250\n",
      "6/6 [==============================] - 1s 118ms/step - loss: 0.2579 - accuracy: 0.9222 - val_loss: 0.2198 - val_accuracy: 0.8261\n",
      "Epoch 53/250\n",
      "6/6 [==============================] - 1s 117ms/step - loss: 0.1980 - accuracy: 0.9389 - val_loss: 0.6093 - val_accuracy: 0.8696\n",
      "Epoch 54/250\n",
      "6/6 [==============================] - 1s 112ms/step - loss: 0.1967 - accuracy: 0.9222 - val_loss: 0.9070 - val_accuracy: 0.8043\n",
      "Epoch 55/250\n",
      "6/6 [==============================] - 1s 116ms/step - loss: 0.1897 - accuracy: 0.9333 - val_loss: 0.2175 - val_accuracy: 0.8913\n",
      "Epoch 56/250\n",
      "6/6 [==============================] - 1s 105ms/step - loss: 0.2259 - accuracy: 0.9333 - val_loss: 0.6119 - val_accuracy: 0.9130\n",
      "Epoch 57/250\n",
      "6/6 [==============================] - 1s 103ms/step - loss: 0.1808 - accuracy: 0.9500 - val_loss: 0.1295 - val_accuracy: 0.8478\n",
      "Epoch 58/250\n",
      "6/6 [==============================] - 1s 103ms/step - loss: 0.1573 - accuracy: 0.9611 - val_loss: 0.0481 - val_accuracy: 0.9130\n"
     ]
    },
    {
     "name": "stdout",
     "output_type": "stream",
     "text": [
      "Epoch 59/250\n",
      "6/6 [==============================] - 1s 104ms/step - loss: 0.1769 - accuracy: 0.9278 - val_loss: 0.3132 - val_accuracy: 0.8478\n",
      "Epoch 60/250\n",
      "6/6 [==============================] - 1s 120ms/step - loss: 0.2188 - accuracy: 0.9333 - val_loss: 0.6462 - val_accuracy: 0.8696\n",
      "Epoch 61/250\n",
      "6/6 [==============================] - 1s 110ms/step - loss: 0.2062 - accuracy: 0.9333 - val_loss: 0.2792 - val_accuracy: 0.8478\n",
      "Epoch 62/250\n",
      "6/6 [==============================] - 1s 105ms/step - loss: 0.1559 - accuracy: 0.9556 - val_loss: 0.1502 - val_accuracy: 0.8913\n",
      "Epoch 63/250\n",
      "6/6 [==============================] - 1s 112ms/step - loss: 0.1296 - accuracy: 0.9667 - val_loss: 0.6624 - val_accuracy: 0.9130\n",
      "Epoch 64/250\n",
      "6/6 [==============================] - 1s 115ms/step - loss: 0.2204 - accuracy: 0.9167 - val_loss: 1.0435 - val_accuracy: 0.8696\n",
      "Epoch 65/250\n",
      "6/6 [==============================] - 1s 130ms/step - loss: 0.1224 - accuracy: 0.9667 - val_loss: 0.5866 - val_accuracy: 0.9130\n",
      "Epoch 66/250\n",
      "6/6 [==============================] - 1s 108ms/step - loss: 0.1418 - accuracy: 0.9611 - val_loss: 0.0395 - val_accuracy: 0.9130\n",
      "Epoch 67/250\n",
      "6/6 [==============================] - 1s 97ms/step - loss: 0.2372 - accuracy: 0.9278 - val_loss: 0.4681 - val_accuracy: 0.8913\n",
      "Epoch 68/250\n",
      "6/6 [==============================] - 1s 97ms/step - loss: 0.1316 - accuracy: 0.9667 - val_loss: 0.0947 - val_accuracy: 0.8696\n",
      "Epoch 69/250\n",
      "6/6 [==============================] - 1s 102ms/step - loss: 0.1668 - accuracy: 0.9444 - val_loss: 0.6013 - val_accuracy: 0.8913\n",
      "Epoch 70/250\n",
      "6/6 [==============================] - 1s 114ms/step - loss: 0.1337 - accuracy: 0.9778 - val_loss: 0.0136 - val_accuracy: 0.8478\n",
      "Epoch 71/250\n",
      "6/6 [==============================] - 1s 125ms/step - loss: 0.1760 - accuracy: 0.9278 - val_loss: 0.4073 - val_accuracy: 0.8696\n",
      "Epoch 72/250\n",
      "6/6 [==============================] - 1s 107ms/step - loss: 0.1526 - accuracy: 0.9444 - val_loss: 0.0417 - val_accuracy: 0.9130\n",
      "Epoch 73/250\n",
      "6/6 [==============================] - 1s 102ms/step - loss: 0.1444 - accuracy: 0.9611 - val_loss: 0.8574 - val_accuracy: 0.9130\n",
      "Epoch 74/250\n",
      "6/6 [==============================] - 1s 110ms/step - loss: 0.1468 - accuracy: 0.9611 - val_loss: 0.1893 - val_accuracy: 0.8913\n",
      "Epoch 75/250\n",
      "6/6 [==============================] - 1s 122ms/step - loss: 0.1653 - accuracy: 0.9611 - val_loss: 0.4021 - val_accuracy: 0.8696\n",
      "Epoch 76/250\n",
      "6/6 [==============================] - 1s 107ms/step - loss: 0.1370 - accuracy: 0.9389 - val_loss: 1.0126 - val_accuracy: 0.8261\n",
      "Epoch 77/250\n",
      "6/6 [==============================] - 1s 99ms/step - loss: 0.2043 - accuracy: 0.9056 - val_loss: 0.7758 - val_accuracy: 0.8261\n",
      "Epoch 78/250\n",
      "6/6 [==============================] - 1s 104ms/step - loss: 0.1581 - accuracy: 0.9333 - val_loss: 0.3668 - val_accuracy: 0.8696\n",
      "Epoch 79/250\n",
      "6/6 [==============================] - 1s 103ms/step - loss: 0.1028 - accuracy: 0.9667 - val_loss: 0.1018 - val_accuracy: 0.9130\n",
      "Epoch 80/250\n",
      "6/6 [==============================] - 1s 110ms/step - loss: 0.1378 - accuracy: 0.9556 - val_loss: 0.2880 - val_accuracy: 0.8913\n",
      "Epoch 81/250\n",
      "6/6 [==============================] - 1s 120ms/step - loss: 0.1052 - accuracy: 0.9667 - val_loss: 0.1879 - val_accuracy: 0.9348\n",
      "Epoch 82/250\n",
      "6/6 [==============================] - 1s 114ms/step - loss: 0.1430 - accuracy: 0.9611 - val_loss: 0.1109 - val_accuracy: 0.8913\n",
      "Epoch 83/250\n",
      "6/6 [==============================] - 1s 103ms/step - loss: 0.1064 - accuracy: 0.9667 - val_loss: 0.0227 - val_accuracy: 0.9130\n",
      "Epoch 84/250\n",
      "6/6 [==============================] - 1s 105ms/step - loss: 0.1504 - accuracy: 0.9389 - val_loss: 0.1813 - val_accuracy: 0.9130\n",
      "Epoch 85/250\n",
      "6/6 [==============================] - 1s 112ms/step - loss: 0.1613 - accuracy: 0.9444 - val_loss: 0.4425 - val_accuracy: 0.8696\n",
      "Epoch 86/250\n",
      "6/6 [==============================] - 1s 117ms/step - loss: 0.1822 - accuracy: 0.9222 - val_loss: 0.5442 - val_accuracy: 0.8696\n",
      "Epoch 87/250\n",
      "6/6 [==============================] - 1s 109ms/step - loss: 0.1990 - accuracy: 0.9444 - val_loss: 0.1461 - val_accuracy: 0.9130\n",
      "Epoch 88/250\n",
      "6/6 [==============================] - 1s 103ms/step - loss: 0.1258 - accuracy: 0.9778 - val_loss: 0.8200 - val_accuracy: 0.9348\n",
      "Epoch 89/250\n",
      "6/6 [==============================] - 1s 97ms/step - loss: 0.1577 - accuracy: 0.9333 - val_loss: 1.1801 - val_accuracy: 0.8913\n",
      "Epoch 90/250\n",
      "6/6 [==============================] - 1s 104ms/step - loss: 0.1584 - accuracy: 0.9389 - val_loss: 0.9273 - val_accuracy: 0.9348\n",
      "Epoch 91/250\n",
      "6/6 [==============================] - 1s 119ms/step - loss: 0.1141 - accuracy: 0.9722 - val_loss: 0.6932 - val_accuracy: 0.8913\n",
      "Epoch 92/250\n",
      "6/6 [==============================] - 1s 106ms/step - loss: 0.0969 - accuracy: 0.9833 - val_loss: 0.0836 - val_accuracy: 0.9348\n",
      "Epoch 93/250\n",
      "6/6 [==============================] - 1s 106ms/step - loss: 0.1670 - accuracy: 0.9444 - val_loss: 0.0479 - val_accuracy: 0.9130\n",
      "Epoch 94/250\n",
      "6/6 [==============================] - 1s 117ms/step - loss: 0.1562 - accuracy: 0.9556 - val_loss: 0.0739 - val_accuracy: 0.9348\n",
      "Epoch 95/250\n",
      "6/6 [==============================] - 1s 121ms/step - loss: 0.1651 - accuracy: 0.9556 - val_loss: 0.0444 - val_accuracy: 0.8913\n",
      "Epoch 96/250\n",
      "6/6 [==============================] - 1s 107ms/step - loss: 0.1124 - accuracy: 0.9722 - val_loss: 1.1199 - val_accuracy: 0.7609\n",
      "Epoch 97/250\n",
      "6/6 [==============================] - 1s 96ms/step - loss: 0.1366 - accuracy: 0.9722 - val_loss: 0.5900 - val_accuracy: 0.8696\n",
      "Epoch 98/250\n",
      "6/6 [==============================] - 1s 97ms/step - loss: 0.1530 - accuracy: 0.9389 - val_loss: 1.1954 - val_accuracy: 0.8913\n",
      "Epoch 99/250\n",
      "6/6 [==============================] - 1s 109ms/step - loss: 0.1063 - accuracy: 0.9722 - val_loss: 0.4851 - val_accuracy: 0.9130\n",
      "Epoch 100/250\n",
      "6/6 [==============================] - 1s 119ms/step - loss: 0.2578 - accuracy: 0.9389 - val_loss: 0.1525 - val_accuracy: 0.8696\n",
      "Epoch 101/250\n",
      "6/6 [==============================] - 1s 112ms/step - loss: 0.1316 - accuracy: 0.9389 - val_loss: 0.6392 - val_accuracy: 0.9348\n",
      "Epoch 102/250\n",
      "6/6 [==============================] - 1s 106ms/step - loss: 0.1747 - accuracy: 0.9667 - val_loss: 0.8217 - val_accuracy: 0.9130\n",
      "Epoch 103/250\n",
      "6/6 [==============================] - 1s 103ms/step - loss: 0.1463 - accuracy: 0.9444 - val_loss: 0.2123 - val_accuracy: 0.8261\n",
      "Epoch 104/250\n",
      "6/6 [==============================] - 1s 107ms/step - loss: 0.1088 - accuracy: 0.9667 - val_loss: 1.2964 - val_accuracy: 0.8696\n",
      "Epoch 105/250\n",
      "6/6 [==============================] - 1s 107ms/step - loss: 0.0907 - accuracy: 0.9778 - val_loss: 0.0738 - val_accuracy: 0.9130\n",
      "Epoch 106/250\n",
      "6/6 [==============================] - 1s 104ms/step - loss: 0.1143 - accuracy: 0.9556 - val_loss: 0.2995 - val_accuracy: 0.8696\n",
      "Epoch 107/250\n",
      "6/6 [==============================] - 1s 106ms/step - loss: 0.0960 - accuracy: 0.9667 - val_loss: 0.4253 - val_accuracy: 0.8261\n",
      "Epoch 108/250\n",
      "6/6 [==============================] - 1s 105ms/step - loss: 0.2644 - accuracy: 0.8944 - val_loss: 0.7824 - val_accuracy: 0.8696\n",
      "Epoch 109/250\n",
      "6/6 [==============================] - 1s 102ms/step - loss: 0.1437 - accuracy: 0.9556 - val_loss: 0.7998 - val_accuracy: 0.8696\n",
      "Epoch 110/250\n",
      "6/6 [==============================] - 1s 107ms/step - loss: 0.1544 - accuracy: 0.9556 - val_loss: 0.2153 - val_accuracy: 0.8696\n",
      "Epoch 111/250\n",
      "6/6 [==============================] - 1s 106ms/step - loss: 0.1301 - accuracy: 0.9611 - val_loss: 0.8160 - val_accuracy: 0.8913\n",
      "Epoch 112/250\n",
      "6/6 [==============================] - 1s 104ms/step - loss: 0.1197 - accuracy: 0.9722 - val_loss: 0.4470 - val_accuracy: 0.8696\n",
      "Epoch 113/250\n",
      "6/6 [==============================] - 1s 103ms/step - loss: 0.0938 - accuracy: 0.9611 - val_loss: 0.0734 - val_accuracy: 0.8913\n",
      "Epoch 114/250\n",
      "6/6 [==============================] - 1s 107ms/step - loss: 0.1482 - accuracy: 0.9389 - val_loss: 0.5513 - val_accuracy: 0.8913\n",
      "Epoch 115/250\n",
      "6/6 [==============================] - 1s 104ms/step - loss: 0.0962 - accuracy: 0.9611 - val_loss: 0.0469 - val_accuracy: 0.9130\n",
      "Epoch 116/250\n"
     ]
    },
    {
     "name": "stdout",
     "output_type": "stream",
     "text": [
      "6/6 [==============================] - 1s 105ms/step - loss: 0.1551 - accuracy: 0.9667 - val_loss: 0.1449 - val_accuracy: 0.8913\n",
      "Epoch 117/250\n",
      "6/6 [==============================] - 1s 110ms/step - loss: 0.0872 - accuracy: 0.9833 - val_loss: 0.5552 - val_accuracy: 0.8261\n",
      "Epoch 118/250\n",
      "6/6 [==============================] - 1s 113ms/step - loss: 0.1151 - accuracy: 0.9722 - val_loss: 1.6750 - val_accuracy: 0.8696\n",
      "Epoch 119/250\n",
      "6/6 [==============================] - 1s 108ms/step - loss: 0.1084 - accuracy: 0.9556 - val_loss: 0.4456 - val_accuracy: 0.8696\n",
      "Epoch 120/250\n",
      "6/6 [==============================] - 1s 103ms/step - loss: 0.1578 - accuracy: 0.9667 - val_loss: 0.6194 - val_accuracy: 0.8261\n",
      "Epoch 121/250\n",
      "6/6 [==============================] - 1s 103ms/step - loss: 0.1224 - accuracy: 0.9611 - val_loss: 1.2085 - val_accuracy: 0.8696\n",
      "Epoch 122/250\n",
      "6/6 [==============================] - 1s 103ms/step - loss: 0.2107 - accuracy: 0.9500 - val_loss: 1.3562 - val_accuracy: 0.8478\n",
      "Epoch 123/250\n",
      "6/6 [==============================] - 1s 103ms/step - loss: 0.1042 - accuracy: 0.9722 - val_loss: 1.7609 - val_accuracy: 0.8478\n",
      "Epoch 124/250\n",
      "6/6 [==============================] - 1s 106ms/step - loss: 0.0891 - accuracy: 0.9722 - val_loss: 0.5192 - val_accuracy: 0.8696\n",
      "Epoch 125/250\n",
      "6/6 [==============================] - 1s 105ms/step - loss: 0.1300 - accuracy: 0.9556 - val_loss: 0.6253 - val_accuracy: 0.8913\n",
      "Epoch 126/250\n",
      "6/6 [==============================] - 1s 107ms/step - loss: 0.1480 - accuracy: 0.9444 - val_loss: 0.3500 - val_accuracy: 0.8696\n",
      "Epoch 127/250\n",
      "6/6 [==============================] - 1s 106ms/step - loss: 0.1488 - accuracy: 0.9389 - val_loss: 0.7727 - val_accuracy: 0.8913\n",
      "Epoch 128/250\n",
      "6/6 [==============================] - 1s 108ms/step - loss: 0.1392 - accuracy: 0.9500 - val_loss: 0.5080 - val_accuracy: 0.9130\n",
      "Epoch 129/250\n",
      "6/6 [==============================] - 1s 110ms/step - loss: 0.0901 - accuracy: 0.9833 - val_loss: 0.6559 - val_accuracy: 0.8913\n",
      "Epoch 130/250\n",
      "6/6 [==============================] - 1s 113ms/step - loss: 0.1151 - accuracy: 0.9722 - val_loss: 0.3515 - val_accuracy: 0.8913\n",
      "Epoch 131/250\n",
      "6/6 [==============================] - 1s 112ms/step - loss: 0.0696 - accuracy: 0.9833 - val_loss: 0.9504 - val_accuracy: 0.8696\n",
      "Epoch 132/250\n",
      "6/6 [==============================] - 1s 111ms/step - loss: 0.1798 - accuracy: 0.9389 - val_loss: 0.1233 - val_accuracy: 0.8696\n",
      "Epoch 133/250\n",
      "6/6 [==============================] - 1s 114ms/step - loss: 0.0628 - accuracy: 0.9778 - val_loss: 0.3129 - val_accuracy: 0.8696\n",
      "Epoch 134/250\n",
      "6/6 [==============================] - 1s 120ms/step - loss: 0.1241 - accuracy: 0.9611 - val_loss: 1.5013 - val_accuracy: 0.8478\n",
      "Epoch 135/250\n",
      "6/6 [==============================] - 1s 112ms/step - loss: 0.1916 - accuracy: 0.9444 - val_loss: 0.0306 - val_accuracy: 0.8696\n",
      "Epoch 136/250\n",
      "6/6 [==============================] - 1s 116ms/step - loss: 0.1151 - accuracy: 0.9500 - val_loss: 0.9826 - val_accuracy: 0.8696\n",
      "Epoch 137/250\n",
      "6/6 [==============================] - 1s 101ms/step - loss: 0.0720 - accuracy: 0.9833 - val_loss: 0.0498 - val_accuracy: 0.8913\n",
      "Epoch 138/250\n",
      "6/6 [==============================] - 1s 108ms/step - loss: 0.0964 - accuracy: 0.9722 - val_loss: 0.3907 - val_accuracy: 0.8261\n",
      "Epoch 139/250\n",
      "6/6 [==============================] - 1s 103ms/step - loss: 0.1244 - accuracy: 0.9778 - val_loss: 1.3915 - val_accuracy: 0.8696\n",
      "Epoch 140/250\n",
      "6/6 [==============================] - 1s 105ms/step - loss: 0.1294 - accuracy: 0.9444 - val_loss: 0.5614 - val_accuracy: 0.8261\n",
      "Epoch 141/250\n",
      "6/6 [==============================] - 1s 107ms/step - loss: 0.1125 - accuracy: 0.9611 - val_loss: 0.4251 - val_accuracy: 0.8913\n",
      "Epoch 142/250\n",
      "6/6 [==============================] - 1s 110ms/step - loss: 0.0962 - accuracy: 0.9500 - val_loss: 0.6037 - val_accuracy: 0.9130\n",
      "Epoch 143/250\n",
      "6/6 [==============================] - 1s 114ms/step - loss: 0.0924 - accuracy: 0.9611 - val_loss: 0.1217 - val_accuracy: 0.8261\n",
      "Epoch 144/250\n",
      "6/6 [==============================] - 1s 115ms/step - loss: 0.1571 - accuracy: 0.9500 - val_loss: 0.8635 - val_accuracy: 0.9130\n",
      "Epoch 145/250\n",
      "6/6 [==============================] - 1s 121ms/step - loss: 0.1313 - accuracy: 0.9611 - val_loss: 0.3421 - val_accuracy: 0.8913\n",
      "Epoch 146/250\n",
      "6/6 [==============================] - 1s 107ms/step - loss: 0.0759 - accuracy: 0.9778 - val_loss: 0.0579 - val_accuracy: 0.9130\n",
      "Epoch 147/250\n",
      "6/6 [==============================] - 1s 111ms/step - loss: 0.0913 - accuracy: 0.9556 - val_loss: 1.6365 - val_accuracy: 0.9348\n",
      "Epoch 148/250\n",
      "6/6 [==============================] - 1s 116ms/step - loss: 0.0982 - accuracy: 0.9667 - val_loss: 1.0562 - val_accuracy: 0.8261\n",
      "Epoch 149/250\n",
      "6/6 [==============================] - 1s 115ms/step - loss: 0.1045 - accuracy: 0.9611 - val_loss: 0.6589 - val_accuracy: 0.8913\n",
      "Epoch 150/250\n",
      "6/6 [==============================] - 1s 112ms/step - loss: 0.0940 - accuracy: 0.9722 - val_loss: 0.9250 - val_accuracy: 0.8913\n",
      "Epoch 151/250\n",
      "6/6 [==============================] - 1s 122ms/step - loss: 0.1121 - accuracy: 0.9500 - val_loss: 0.1282 - val_accuracy: 0.8913\n",
      "Epoch 152/250\n",
      "6/6 [==============================] - 1s 103ms/step - loss: 0.1046 - accuracy: 0.9722 - val_loss: 0.0323 - val_accuracy: 0.8913\n",
      "Epoch 153/250\n",
      "6/6 [==============================] - 1s 105ms/step - loss: 0.1820 - accuracy: 0.9278 - val_loss: 0.3066 - val_accuracy: 0.8913\n",
      "Epoch 154/250\n",
      "6/6 [==============================] - 1s 114ms/step - loss: 0.0804 - accuracy: 0.9611 - val_loss: 0.0938 - val_accuracy: 0.9130\n",
      "Epoch 155/250\n",
      "6/6 [==============================] - 1s 118ms/step - loss: 0.0766 - accuracy: 0.9833 - val_loss: 0.2438 - val_accuracy: 0.9130\n",
      "Epoch 156/250\n",
      "6/6 [==============================] - 1s 107ms/step - loss: 0.1276 - accuracy: 0.9556 - val_loss: 0.0553 - val_accuracy: 0.9348\n",
      "Epoch 157/250\n",
      "6/6 [==============================] - 1s 106ms/step - loss: 0.0758 - accuracy: 0.9722 - val_loss: 0.8476 - val_accuracy: 0.9130\n",
      "Epoch 158/250\n",
      "6/6 [==============================] - 1s 106ms/step - loss: 0.1424 - accuracy: 0.9500 - val_loss: 0.8610 - val_accuracy: 0.9130\n",
      "Epoch 159/250\n",
      "6/6 [==============================] - 1s 121ms/step - loss: 0.1219 - accuracy: 0.9611 - val_loss: 0.9219 - val_accuracy: 0.9130\n",
      "Epoch 160/250\n",
      "6/6 [==============================] - 1s 133ms/step - loss: 0.0606 - accuracy: 0.9778 - val_loss: 0.7546 - val_accuracy: 0.8913\n",
      "Epoch 161/250\n",
      "6/6 [==============================] - 1s 113ms/step - loss: 0.0965 - accuracy: 0.9722 - val_loss: 0.7239 - val_accuracy: 0.9130\n",
      "Epoch 162/250\n",
      "6/6 [==============================] - 1s 112ms/step - loss: 0.1015 - accuracy: 0.9500 - val_loss: 1.1010 - val_accuracy: 0.8913\n",
      "Epoch 163/250\n",
      "6/6 [==============================] - 1s 111ms/step - loss: 0.0828 - accuracy: 0.9778 - val_loss: 0.5502 - val_accuracy: 0.9130\n",
      "Epoch 164/250\n",
      "6/6 [==============================] - 1s 106ms/step - loss: 0.0863 - accuracy: 0.9944 - val_loss: 0.6117 - val_accuracy: 0.9348\n",
      "Epoch 165/250\n",
      "6/6 [==============================] - 1s 109ms/step - loss: 0.0579 - accuracy: 0.9778 - val_loss: 0.3904 - val_accuracy: 0.8696\n",
      "Epoch 166/250\n",
      "6/6 [==============================] - 1s 118ms/step - loss: 0.1338 - accuracy: 0.9556 - val_loss: 0.5579 - val_accuracy: 0.8913\n",
      "Epoch 167/250\n",
      "6/6 [==============================] - 1s 109ms/step - loss: 0.1460 - accuracy: 0.9556 - val_loss: 0.4845 - val_accuracy: 0.9130\n",
      "Epoch 168/250\n",
      "6/6 [==============================] - 1s 118ms/step - loss: 0.1800 - accuracy: 0.9333 - val_loss: 0.1052 - val_accuracy: 0.8913\n",
      "Epoch 169/250\n",
      "6/6 [==============================] - 1s 112ms/step - loss: 0.1211 - accuracy: 0.9556 - val_loss: 0.8956 - val_accuracy: 0.8913\n",
      "Epoch 170/250\n",
      "6/6 [==============================] - 1s 107ms/step - loss: 0.1343 - accuracy: 0.9611 - val_loss: 0.0651 - val_accuracy: 0.8696\n",
      "Epoch 171/250\n",
      "6/6 [==============================] - 1s 114ms/step - loss: 0.1046 - accuracy: 0.9556 - val_loss: 0.7757 - val_accuracy: 0.8913\n",
      "Epoch 172/250\n",
      "6/6 [==============================] - 1s 106ms/step - loss: 0.0499 - accuracy: 0.9889 - val_loss: 0.7992 - val_accuracy: 0.8913\n",
      "Epoch 173/250\n"
     ]
    },
    {
     "name": "stdout",
     "output_type": "stream",
     "text": [
      "6/6 [==============================] - 1s 113ms/step - loss: 0.0617 - accuracy: 0.9833 - val_loss: 0.1247 - val_accuracy: 0.9130\n",
      "Epoch 174/250\n",
      "6/6 [==============================] - 1s 103ms/step - loss: 0.0736 - accuracy: 0.9833 - val_loss: 0.3867 - val_accuracy: 0.8913\n",
      "Epoch 175/250\n",
      "6/6 [==============================] - 1s 114ms/step - loss: 0.1428 - accuracy: 0.9444 - val_loss: 0.3189 - val_accuracy: 0.8913\n",
      "Epoch 176/250\n",
      "6/6 [==============================] - 1s 121ms/step - loss: 0.1851 - accuracy: 0.9556 - val_loss: 0.4705 - val_accuracy: 0.8478\n",
      "Epoch 177/250\n",
      "6/6 [==============================] - 1s 146ms/step - loss: 0.1177 - accuracy: 0.9667 - val_loss: 1.5293 - val_accuracy: 0.8913\n",
      "Epoch 178/250\n",
      "6/6 [==============================] - 1s 106ms/step - loss: 0.1093 - accuracy: 0.9667 - val_loss: 0.1112 - val_accuracy: 0.8696\n",
      "Epoch 179/250\n",
      "6/6 [==============================] - 1s 106ms/step - loss: 0.0681 - accuracy: 0.9833 - val_loss: 1.4412 - val_accuracy: 0.8913\n",
      "Epoch 180/250\n",
      "6/6 [==============================] - 1s 102ms/step - loss: 0.0993 - accuracy: 0.9722 - val_loss: 0.0595 - val_accuracy: 0.8913\n",
      "Epoch 181/250\n",
      "6/6 [==============================] - 1s 103ms/step - loss: 0.0861 - accuracy: 0.9722 - val_loss: 1.1619 - val_accuracy: 0.8696\n",
      "Epoch 182/250\n",
      "6/6 [==============================] - 1s 104ms/step - loss: 0.0721 - accuracy: 0.9722 - val_loss: 0.5500 - val_accuracy: 0.8913\n",
      "Epoch 183/250\n",
      "6/6 [==============================] - 1s 108ms/step - loss: 0.1742 - accuracy: 0.9500 - val_loss: 0.8729 - val_accuracy: 0.9348\n",
      "Epoch 184/250\n",
      "6/6 [==============================] - 1s 102ms/step - loss: 0.1247 - accuracy: 0.9556 - val_loss: 0.3153 - val_accuracy: 0.9130\n",
      "Epoch 185/250\n",
      "6/6 [==============================] - 1s 108ms/step - loss: 0.1036 - accuracy: 0.9722 - val_loss: 0.1259 - val_accuracy: 0.9348\n",
      "Epoch 186/250\n",
      "6/6 [==============================] - 1s 100ms/step - loss: 0.0718 - accuracy: 0.9833 - val_loss: 1.0139 - val_accuracy: 0.9130\n",
      "Epoch 187/250\n",
      "6/6 [==============================] - 1s 103ms/step - loss: 0.0768 - accuracy: 0.9667 - val_loss: 0.6885 - val_accuracy: 0.9348\n",
      "Epoch 188/250\n",
      "6/6 [==============================] - 1s 103ms/step - loss: 0.0952 - accuracy: 0.9611 - val_loss: 0.4435 - val_accuracy: 0.8696\n",
      "Epoch 189/250\n",
      "6/6 [==============================] - 1s 103ms/step - loss: 0.0618 - accuracy: 0.9833 - val_loss: 0.1975 - val_accuracy: 0.8913\n",
      "Epoch 190/250\n",
      "6/6 [==============================] - 1s 104ms/step - loss: 0.0673 - accuracy: 0.9778 - val_loss: 0.0350 - val_accuracy: 0.8913\n",
      "Epoch 191/250\n",
      "6/6 [==============================] - 1s 102ms/step - loss: 0.0669 - accuracy: 0.9889 - val_loss: 1.0729 - val_accuracy: 0.8913\n",
      "Epoch 192/250\n",
      "6/6 [==============================] - 1s 102ms/step - loss: 0.1131 - accuracy: 0.9556 - val_loss: 0.1257 - val_accuracy: 0.8913\n",
      "Epoch 193/250\n",
      "6/6 [==============================] - 1s 103ms/step - loss: 0.0713 - accuracy: 0.9778 - val_loss: 0.0888 - val_accuracy: 0.9130\n",
      "Epoch 194/250\n",
      "6/6 [==============================] - 1s 104ms/step - loss: 0.0764 - accuracy: 0.9667 - val_loss: 0.0464 - val_accuracy: 0.8261\n",
      "Epoch 195/250\n",
      "6/6 [==============================] - 1s 104ms/step - loss: 0.0658 - accuracy: 0.9889 - val_loss: 0.0335 - val_accuracy: 0.8913\n",
      "Epoch 196/250\n",
      "6/6 [==============================] - 1s 104ms/step - loss: 0.0652 - accuracy: 0.9889 - val_loss: 0.4322 - val_accuracy: 0.8913\n",
      "Epoch 197/250\n",
      "6/6 [==============================] - 1s 105ms/step - loss: 0.0468 - accuracy: 0.9889 - val_loss: 1.1235 - val_accuracy: 0.8913\n",
      "Epoch 198/250\n",
      "6/6 [==============================] - 1s 102ms/step - loss: 0.1019 - accuracy: 0.9556 - val_loss: 0.1902 - val_accuracy: 0.8913\n",
      "Epoch 199/250\n",
      "6/6 [==============================] - 1s 104ms/step - loss: 0.0754 - accuracy: 0.9833 - val_loss: 0.9495 - val_accuracy: 0.8913\n",
      "Epoch 200/250\n",
      "6/6 [==============================] - 1s 103ms/step - loss: 0.0754 - accuracy: 0.9722 - val_loss: 0.3120 - val_accuracy: 0.8913\n",
      "Epoch 201/250\n",
      "6/6 [==============================] - 1s 105ms/step - loss: 0.0368 - accuracy: 0.9944 - val_loss: 0.9436 - val_accuracy: 0.8913\n",
      "Epoch 202/250\n",
      "6/6 [==============================] - 1s 106ms/step - loss: 0.0486 - accuracy: 0.9889 - val_loss: 2.2393 - val_accuracy: 0.8696\n",
      "Epoch 203/250\n",
      "6/6 [==============================] - 1s 105ms/step - loss: 0.0977 - accuracy: 0.9611 - val_loss: 0.1854 - val_accuracy: 0.8696\n",
      "Epoch 204/250\n",
      "6/6 [==============================] - 1s 106ms/step - loss: 0.1252 - accuracy: 0.9500 - val_loss: 1.5034 - val_accuracy: 0.8913\n",
      "Epoch 205/250\n",
      "6/6 [==============================] - 1s 106ms/step - loss: 0.0493 - accuracy: 0.9833 - val_loss: 0.6489 - val_accuracy: 0.9348\n",
      "Epoch 206/250\n",
      "6/6 [==============================] - 1s 102ms/step - loss: 0.1536 - accuracy: 0.9389 - val_loss: 0.1568 - val_accuracy: 0.8696\n",
      "Epoch 207/250\n",
      "6/6 [==============================] - 1s 104ms/step - loss: 0.1362 - accuracy: 0.9556 - val_loss: 0.1090 - val_accuracy: 0.8913\n",
      "Epoch 208/250\n",
      "6/6 [==============================] - 1s 102ms/step - loss: 0.1028 - accuracy: 0.9778 - val_loss: 0.8894 - val_accuracy: 0.9130\n",
      "Epoch 209/250\n",
      "6/6 [==============================] - 1s 112ms/step - loss: 0.0467 - accuracy: 0.9889 - val_loss: 0.4101 - val_accuracy: 0.9130\n",
      "Epoch 210/250\n",
      "6/6 [==============================] - 1s 106ms/step - loss: 0.0583 - accuracy: 0.9833 - val_loss: 0.5885 - val_accuracy: 0.9130\n",
      "Epoch 211/250\n",
      "6/6 [==============================] - 1s 104ms/step - loss: 0.0477 - accuracy: 0.9833 - val_loss: 0.9826 - val_accuracy: 0.9130\n",
      "Epoch 212/250\n",
      "6/6 [==============================] - 1s 105ms/step - loss: 0.0537 - accuracy: 0.9833 - val_loss: 0.2922 - val_accuracy: 0.9130\n",
      "Epoch 213/250\n",
      "6/6 [==============================] - 1s 105ms/step - loss: 0.1145 - accuracy: 0.9556 - val_loss: 0.0686 - val_accuracy: 0.8913\n",
      "Epoch 214/250\n",
      "6/6 [==============================] - 1s 102ms/step - loss: 0.0816 - accuracy: 0.9889 - val_loss: 0.1019 - val_accuracy: 0.9130\n",
      "Epoch 215/250\n",
      "6/6 [==============================] - 1s 107ms/step - loss: 0.0570 - accuracy: 0.9778 - val_loss: 1.2733 - val_accuracy: 0.8696\n",
      "Epoch 216/250\n",
      "6/6 [==============================] - 1s 108ms/step - loss: 0.0426 - accuracy: 1.0000 - val_loss: 1.7136 - val_accuracy: 0.8913\n",
      "Epoch 217/250\n",
      "6/6 [==============================] - 1s 114ms/step - loss: 0.0611 - accuracy: 0.9778 - val_loss: 0.7782 - val_accuracy: 0.8696\n",
      "Epoch 218/250\n",
      "6/6 [==============================] - 1s 109ms/step - loss: 0.0443 - accuracy: 0.9889 - val_loss: 0.5562 - val_accuracy: 0.8913\n",
      "Epoch 219/250\n",
      "6/6 [==============================] - 1s 119ms/step - loss: 0.0965 - accuracy: 0.9611 - val_loss: 0.0151 - val_accuracy: 0.8913\n",
      "Epoch 220/250\n",
      "6/6 [==============================] - 1s 126ms/step - loss: 0.0656 - accuracy: 0.9833 - val_loss: 0.7559 - val_accuracy: 0.9348\n",
      "Epoch 221/250\n",
      "6/6 [==============================] - 1s 112ms/step - loss: 0.0577 - accuracy: 0.9889 - val_loss: 1.2825 - val_accuracy: 0.9130\n",
      "Epoch 222/250\n",
      "6/6 [==============================] - 1s 102ms/step - loss: 0.0783 - accuracy: 0.9667 - val_loss: 0.7180 - val_accuracy: 0.9130\n",
      "Epoch 223/250\n",
      "6/6 [==============================] - 1s 101ms/step - loss: 0.0359 - accuracy: 0.9944 - val_loss: 1.3327 - val_accuracy: 0.8913\n",
      "Epoch 224/250\n",
      "6/6 [==============================] - 1s 93ms/step - loss: 0.0920 - accuracy: 0.9611 - val_loss: 0.7634 - val_accuracy: 0.8478\n",
      "Epoch 225/250\n",
      "6/6 [==============================] - 1s 98ms/step - loss: 0.1160 - accuracy: 0.9611 - val_loss: 0.5087 - val_accuracy: 0.8696\n",
      "Epoch 226/250\n",
      "6/6 [==============================] - 1s 121ms/step - loss: 0.1215 - accuracy: 0.9778 - val_loss: 1.6358 - val_accuracy: 0.8913\n",
      "Epoch 227/250\n",
      "6/6 [==============================] - 1s 100ms/step - loss: 0.0410 - accuracy: 0.9889 - val_loss: 1.7410 - val_accuracy: 0.8913\n",
      "Epoch 228/250\n",
      "6/6 [==============================] - 1s 106ms/step - loss: 0.0592 - accuracy: 0.9889 - val_loss: 1.3301 - val_accuracy: 0.9130\n",
      "Epoch 229/250\n",
      "6/6 [==============================] - 1s 106ms/step - loss: 0.1327 - accuracy: 0.9556 - val_loss: 0.0170 - val_accuracy: 0.8696\n",
      "Epoch 230/250\n"
     ]
    },
    {
     "name": "stdout",
     "output_type": "stream",
     "text": [
      "6/6 [==============================] - 1s 128ms/step - loss: 0.0710 - accuracy: 0.9833 - val_loss: 0.9777 - val_accuracy: 0.9130\n",
      "Epoch 231/250\n",
      "6/6 [==============================] - 1s 105ms/step - loss: 0.0843 - accuracy: 0.9833 - val_loss: 0.9697 - val_accuracy: 0.8261\n",
      "Epoch 232/250\n",
      "6/6 [==============================] - 1s 103ms/step - loss: 0.0693 - accuracy: 0.9833 - val_loss: 0.7016 - val_accuracy: 0.9130\n",
      "Epoch 233/250\n",
      "6/6 [==============================] - 1s 123ms/step - loss: 0.0908 - accuracy: 0.9722 - val_loss: 0.6624 - val_accuracy: 0.8913\n",
      "Epoch 234/250\n",
      "6/6 [==============================] - 1s 117ms/step - loss: 0.0784 - accuracy: 0.9722 - val_loss: 0.8930 - val_accuracy: 0.8261\n",
      "Epoch 235/250\n",
      "6/6 [==============================] - 1s 106ms/step - loss: 0.1322 - accuracy: 0.9500 - val_loss: 0.1315 - val_accuracy: 0.8913\n",
      "Epoch 236/250\n",
      "6/6 [==============================] - 1s 144ms/step - loss: 0.0508 - accuracy: 0.9944 - val_loss: 0.6795 - val_accuracy: 0.9130\n",
      "Epoch 237/250\n",
      "6/6 [==============================] - 1s 117ms/step - loss: 0.0584 - accuracy: 0.9722 - val_loss: 0.9217 - val_accuracy: 0.9130\n",
      "Epoch 238/250\n",
      "6/6 [==============================] - 1s 112ms/step - loss: 0.0746 - accuracy: 0.9667 - val_loss: 0.6912 - val_accuracy: 0.9130\n",
      "Epoch 239/250\n",
      "6/6 [==============================] - 1s 112ms/step - loss: 0.0396 - accuracy: 0.9889 - val_loss: 0.8298 - val_accuracy: 0.8913\n",
      "Epoch 240/250\n",
      "6/6 [==============================] - 1s 99ms/step - loss: 0.0429 - accuracy: 0.9833 - val_loss: 1.8010 - val_accuracy: 0.9130\n",
      "Epoch 241/250\n",
      "6/6 [==============================] - 1s 102ms/step - loss: 0.1242 - accuracy: 0.9667 - val_loss: 0.0376 - val_accuracy: 0.8478\n",
      "Epoch 242/250\n",
      "6/6 [==============================] - 1s 122ms/step - loss: 0.0822 - accuracy: 0.9611 - val_loss: 0.0125 - val_accuracy: 0.8913\n",
      "Epoch 243/250\n",
      "6/6 [==============================] - 1s 109ms/step - loss: 0.0960 - accuracy: 0.9722 - val_loss: 0.5491 - val_accuracy: 0.9130\n",
      "Epoch 244/250\n",
      "6/6 [==============================] - 1s 99ms/step - loss: 0.1204 - accuracy: 0.9611 - val_loss: 1.1115 - val_accuracy: 0.8913\n",
      "Epoch 245/250\n",
      "6/6 [==============================] - 1s 100ms/step - loss: 0.1129 - accuracy: 0.9722 - val_loss: 0.9171 - val_accuracy: 0.8696\n",
      "Epoch 246/250\n",
      "6/6 [==============================] - 1s 103ms/step - loss: 0.0422 - accuracy: 0.9944 - val_loss: 0.9998 - val_accuracy: 0.9130\n",
      "Epoch 247/250\n",
      "6/6 [==============================] - 1s 99ms/step - loss: 0.0364 - accuracy: 0.9889 - val_loss: 0.6910 - val_accuracy: 0.9130\n",
      "Epoch 248/250\n",
      "6/6 [==============================] - 1s 94ms/step - loss: 0.0827 - accuracy: 0.9611 - val_loss: 0.1492 - val_accuracy: 0.8696\n",
      "Epoch 249/250\n",
      "6/6 [==============================] - 1s 100ms/step - loss: 0.0537 - accuracy: 0.9944 - val_loss: 1.5189 - val_accuracy: 0.9130\n",
      "Epoch 250/250\n",
      "6/6 [==============================] - 1s 98ms/step - loss: 0.1055 - accuracy: 0.9556 - val_loss: 0.1321 - val_accuracy: 0.9130\n"
     ]
    }
   ],
   "source": [
    "history = model.fit(train_datagen.flow(X_train, y_train_categorical),\n",
    "                              validation_data=validation_datagen.flow(X_valid, y_valid_categorical),\n",
    "                                                                      epochs=250)"
   ]
  },
  {
   "cell_type": "code",
   "execution_count": 75,
   "metadata": {},
   "outputs": [
    {
     "name": "stdout",
     "output_type": "stream",
     "text": [
      "\r",
      "25/25 [==============================] - 0s 2ms/step\n"
     ]
    }
   ],
   "source": [
    "score = model.evaluate(X_test, y_test_categorical)"
   ]
  },
  {
   "cell_type": "code",
   "execution_count": 76,
   "metadata": {},
   "outputs": [
    {
     "data": {
      "text/plain": [
       "[0.5176934599876404, 0.9200000166893005]"
      ]
     },
     "execution_count": 76,
     "metadata": {},
     "output_type": "execute_result"
    }
   ],
   "source": [
    "score"
   ]
  },
  {
   "cell_type": "code",
   "execution_count": 77,
   "metadata": {},
   "outputs": [
    {
     "name": "stdout",
     "output_type": "stream",
     "text": [
      "The random image label is  22\n"
     ]
    },
    {
     "data": {
      "image/png": "[encoded data removed]",
      "text/plain": [
       "<Figure size 432x288 with 1 Axes>"
      ]
     },
     "metadata": {
      "needs_background": "light"
     },
     "output_type": "display_data"
    },
    {
     "name": "stdout",
     "output_type": "stream",
     "text": [
      "Predicted Sign[2]\n"
     ]
    }
   ],
   "source": [
    "random_img = random.randint(0,24)\n",
    "print(\"The random image label is \", random_img)\n",
    "plt.imshow(X_test[random_img])\n",
    "plt.show()\n",
    "print('Predicted Sign' + str\n",
    "         (model.predict_classes(X_test[random_img].reshape(1,64,64,3))))"
   ]
  },
  {
   "cell_type": "code",
   "execution_count": 85,
   "metadata": {},
   "outputs": [
    {
     "name": "stdout",
     "output_type": "stream",
     "text": [
      "The random image label is  9\n"
     ]
    },
    {
     "data": {
      "image/png": "[encoded data removed]",
      "text/plain": [
       "<Figure size 432x288 with 1 Axes>"
      ]
     },
     "metadata": {
      "needs_background": "light"
     },
     "output_type": "display_data"
    },
    {
     "name": "stdout",
     "output_type": "stream",
     "text": [
      "Predicted Sign[0]\n"
     ]
    }
   ],
   "source": [
    "random_img = random.randint(0,24)\n",
    "print(\"The random image label is \", random_img)\n",
    "plt.imshow(X_test[random_img])\n",
    "plt.show()\n",
    "print('Predicted Sign' + str\n",
    "         (model.predict_classes(X_test[random_img].reshape(1,64,64,3))))"
   ]
  },
  {
   "cell_type": "code",
   "execution_count": 87,
   "metadata": {},
   "outputs": [
    {
     "name": "stdout",
     "output_type": "stream",
     "text": [
      "The random image label is  12\n"
     ]
    },
    {
     "data": {
      "image/png": "[encoded data removed]",
      "text/plain": [
       "<Figure size 432x288 with 1 Axes>"
      ]
     },
     "metadata": {
      "needs_background": "light"
     },
     "output_type": "display_data"
    },
    {
     "name": "stdout",
     "output_type": "stream",
     "text": [
      "Predicted Sign[1]\n"
     ]
    }
   ],
   "source": [
    "random_img = random.randint(0,24)\n",
    "print(\"The random image label is \", random_img)\n",
    "plt.imshow(X_test[random_img])\n",
    "plt.show()\n",
    "print('Predicted Sign' + str\n",
    "         (model.predict_classes(X_test[random_img].reshape(1,64,64,3))))"
   ]
  },
  {
   "cell_type": "code",
   "execution_count": 80,
   "metadata": {},
   "outputs": [
    {
     "name": "stdout",
     "output_type": "stream",
     "text": [
      "Predicted Sign[0]\n",
      "Predicted Sign[0]\n",
      "Predicted Sign[0]\n",
      "Predicted Sign[0]\n",
      "Predicted Sign[0]\n",
      "Predicted Sign[0]\n",
      "Predicted Sign[0]\n",
      "Predicted Sign[0]\n",
      "Predicted Sign[0]\n",
      "Predicted Sign[0]\n",
      "Predicted Sign[2]\n",
      "Predicted Sign[1]\n",
      "Predicted Sign[1]\n",
      "Predicted Sign[1]\n",
      "Predicted Sign[1]\n",
      "Predicted Sign[1]\n",
      "Predicted Sign[1]\n",
      "Predicted Sign[0]\n",
      "Predicted Sign[1]\n",
      "Predicted Sign[1]\n",
      "Predicted Sign[2]\n",
      "Predicted Sign[2]\n",
      "Predicted Sign[2]\n",
      "Predicted Sign[2]\n",
      "Predicted Sign[2]\n"
     ]
    }
   ],
   "source": [
    "for i in range(len(X_test)):\n",
    "    print('Predicted Sign' + str\n",
    "         (model.predict_classes(X_test[i].reshape(1,64,64,3))))"
   ]
  },
  {
   "cell_type": "code",
   "execution_count": 81,
   "metadata": {},
   "outputs": [],
   "source": [
    "y_pred = model.predict(X_test)"
   ]
  },
  {
   "cell_type": "code",
   "execution_count": 82,
   "metadata": {},
   "outputs": [],
   "source": [
    "results_class = np.argmax(y_pred, axis=1, out=None)"
   ]
  },
  {
   "cell_type": "code",
   "execution_count": 83,
   "metadata": {},
   "outputs": [
    {
     "name": "stdout",
     "output_type": "stream",
     "text": [
      "[[10  1  0]\n",
      " [ 0  8  0]\n",
      " [ 0  1  5]]\n"
     ]
    }
   ],
   "source": [
    "from sklearn.metrics import confusion_matrix\n",
    "\n",
    "print(confusion_matrix(results_class, y_test))"
   ]
  },
  {
   "cell_type": "code",
   "execution_count": 84,
   "metadata": {},
   "outputs": [
    {
     "name": "stdout",
     "output_type": "stream",
     "text": [
      "              precision    recall  f1-score   support\n",
      "\n",
      "           0       1.00      0.91      0.95        11\n",
      "           1       0.80      1.00      0.89         8\n",
      "           2       1.00      0.83      0.91         6\n",
      "\n",
      "    accuracy                           0.92        25\n",
      "   macro avg       0.93      0.91      0.92        25\n",
      "weighted avg       0.94      0.92      0.92        25\n",
      "\n"
     ]
    }
   ],
   "source": [
    "from sklearn.metrics import classification_report\n",
    "\n",
    "print(classification_report(results_class, y_test))"
   ]
  },
  {
   "cell_type": "code",
   "execution_count": null,
   "metadata": {},
   "outputs": [],
   "source": []
  },
  {
   "cell_type": "code",
   "execution_count": null,
   "metadata": {},
   "outputs": [],
   "source": []
  },
  {
   "cell_type": "code",
   "execution_count": null,
   "metadata": {},
   "outputs": [],
   "source": []
  }
 ],
 "metadata": {
  "kernelspec": {
   "display_name": "Python 3",
   "language": "python",
   "name": "python3"
  },
  "language_info": {
   "codemirror_mode": {
    "name": "ipython",
    "version": 3
   },
   "file_extension": ".py",
   "mimetype": "text/x-python",
   "name": "python",
   "nbconvert_exporter": "python",
   "pygments_lexer": "ipython3",
   "version": "3.7.4"
  }
 },
 "nbformat": 4,
 "nbformat_minor": 2
}
